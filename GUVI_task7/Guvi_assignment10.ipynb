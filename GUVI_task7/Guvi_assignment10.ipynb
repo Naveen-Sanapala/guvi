{
  "nbformat": 4,
  "nbformat_minor": 0,
  "metadata": {
    "colab": {
      "name": "Guvi_assignment10.ipynb",
      "provenance": []
    },
    "kernelspec": {
      "name": "python3",
      "display_name": "Python 3"
    },
    "language_info": {
      "name": "python"
    }
  },
  "cells": [
    {
      "cell_type": "code",
      "execution_count": null,
      "metadata": {
        "id": "zG1O40z_ANVA"
      },
      "outputs": [],
      "source": [
        "import pandas as pd\n",
        "import seaborn as sns\n",
        "import matplotlib.pyplot as plt\n",
        "import numpy as np\n"
      ]
    },
    {
      "cell_type": "code",
      "source": [
        "sns.set()"
      ],
      "metadata": {
        "id": "1u3qnLZoFy9q"
      },
      "execution_count": null,
      "outputs": []
    },
    {
      "cell_type": "code",
      "source": [
        "names=[\"Id\",\"RI\",\"Na\",\"Mg\",\"Al\",\"Si\",\"K\",\"Ca\",\"Ba\",\"Fe\",\"Type of glass\"]\n",
        "\"\"\"\n",
        "dataset info:\n",
        "1. Id number: 1 to 214\n",
        "2. RI: refractive index\n",
        "3. Na: Sodium (unit measurement: weight percent in corresponding oxide, as are attributes 4-10)\n",
        "4. Mg: Magnesium\n",
        "5. Al: Aluminum\n",
        "6. Si: Silicon\n",
        "7. K: Potassium\n",
        "8. Ca: Calcium\n",
        "9. Ba: Barium\n",
        "10. Fe: Iron\n",
        "11. Type of glass: (class attribute):\n",
        "-- 1 building_windows_float_processed\n",
        "-- 2 building_windows_non_float_processed\n",
        "-- 3 vehicle_windows_float_processed\n",
        "-- 4 vehicle_windows_non_float_processed (none in this database)\n",
        "-- 5 containers\n",
        "-- 6 tableware\n",
        "-- 7 headlamps\n",
        "\"\"\""
      ],
      "metadata": {
        "colab": {
          "base_uri": "https://localhost:8080/",
          "height": 87
        },
        "id": "IEgknptFF2uV",
        "outputId": "e04c2950-8df6-4de7-dab4-5ed92da551d3"
      },
      "execution_count": null,
      "outputs": [
        {
          "output_type": "execute_result",
          "data": {
            "application/vnd.google.colaboratory.intrinsic+json": {
              "type": "string"
            },
            "text/plain": [
              "'\\ndataset info:\\n1. Id number: 1 to 214\\n2. RI: refractive index\\n3. Na: Sodium (unit measurement: weight percent in corresponding oxide, as are attributes 4-10)\\n4. Mg: Magnesium\\n5. Al: Aluminum\\n6. Si: Silicon\\n7. K: Potassium\\n8. Ca: Calcium\\n9. Ba: Barium\\n10. Fe: Iron\\n11. Type of glass: (class attribute):\\n-- 1 building_windows_float_processed\\n-- 2 building_windows_non_float_processed\\n-- 3 vehicle_windows_float_processed\\n-- 4 vehicle_windows_non_float_processed (none in this database)\\n-- 5 containers\\n-- 6 tableware\\n-- 7 headlamps\\n'"
            ]
          },
          "metadata": {},
          "execution_count": 98
        }
      ]
    },
    {
      "cell_type": "code",
      "source": [
        "df=pd.read_csv(\"https://archive.ics.uci.edu/ml/machine-learning-databases/glass/glass.data\",names=names)\n",
        "df"
      ],
      "metadata": {
        "colab": {
          "base_uri": "https://localhost:8080/",
          "height": 423
        },
        "id": "hzEZKKxXJZaf",
        "outputId": "e17e9144-824c-4c2a-aaec-9360603ac736"
      },
      "execution_count": null,
      "outputs": [
        {
          "output_type": "execute_result",
          "data": {
            "text/html": [
              "\n",
              "  <div id=\"df-7a71edb9-c008-4f59-b743-99ad01f85b4e\">\n",
              "    <div class=\"colab-df-container\">\n",
              "      <div>\n",
              "<style scoped>\n",
              "    .dataframe tbody tr th:only-of-type {\n",
              "        vertical-align: middle;\n",
              "    }\n",
              "\n",
              "    .dataframe tbody tr th {\n",
              "        vertical-align: top;\n",
              "    }\n",
              "\n",
              "    .dataframe thead th {\n",
              "        text-align: right;\n",
              "    }\n",
              "</style>\n",
              "<table border=\"1\" class=\"dataframe\">\n",
              "  <thead>\n",
              "    <tr style=\"text-align: right;\">\n",
              "      <th></th>\n",
              "      <th>Id</th>\n",
              "      <th>RI</th>\n",
              "      <th>Na</th>\n",
              "      <th>Mg</th>\n",
              "      <th>Al</th>\n",
              "      <th>Si</th>\n",
              "      <th>K</th>\n",
              "      <th>Ca</th>\n",
              "      <th>Ba</th>\n",
              "      <th>Fe</th>\n",
              "      <th>Type of glass</th>\n",
              "    </tr>\n",
              "  </thead>\n",
              "  <tbody>\n",
              "    <tr>\n",
              "      <th>0</th>\n",
              "      <td>1</td>\n",
              "      <td>1.52101</td>\n",
              "      <td>13.64</td>\n",
              "      <td>4.49</td>\n",
              "      <td>1.10</td>\n",
              "      <td>71.78</td>\n",
              "      <td>0.06</td>\n",
              "      <td>8.75</td>\n",
              "      <td>0.00</td>\n",
              "      <td>0.0</td>\n",
              "      <td>1</td>\n",
              "    </tr>\n",
              "    <tr>\n",
              "      <th>1</th>\n",
              "      <td>2</td>\n",
              "      <td>1.51761</td>\n",
              "      <td>13.89</td>\n",
              "      <td>3.60</td>\n",
              "      <td>1.36</td>\n",
              "      <td>72.73</td>\n",
              "      <td>0.48</td>\n",
              "      <td>7.83</td>\n",
              "      <td>0.00</td>\n",
              "      <td>0.0</td>\n",
              "      <td>1</td>\n",
              "    </tr>\n",
              "    <tr>\n",
              "      <th>2</th>\n",
              "      <td>3</td>\n",
              "      <td>1.51618</td>\n",
              "      <td>13.53</td>\n",
              "      <td>3.55</td>\n",
              "      <td>1.54</td>\n",
              "      <td>72.99</td>\n",
              "      <td>0.39</td>\n",
              "      <td>7.78</td>\n",
              "      <td>0.00</td>\n",
              "      <td>0.0</td>\n",
              "      <td>1</td>\n",
              "    </tr>\n",
              "    <tr>\n",
              "      <th>3</th>\n",
              "      <td>4</td>\n",
              "      <td>1.51766</td>\n",
              "      <td>13.21</td>\n",
              "      <td>3.69</td>\n",
              "      <td>1.29</td>\n",
              "      <td>72.61</td>\n",
              "      <td>0.57</td>\n",
              "      <td>8.22</td>\n",
              "      <td>0.00</td>\n",
              "      <td>0.0</td>\n",
              "      <td>1</td>\n",
              "    </tr>\n",
              "    <tr>\n",
              "      <th>4</th>\n",
              "      <td>5</td>\n",
              "      <td>1.51742</td>\n",
              "      <td>13.27</td>\n",
              "      <td>3.62</td>\n",
              "      <td>1.24</td>\n",
              "      <td>73.08</td>\n",
              "      <td>0.55</td>\n",
              "      <td>8.07</td>\n",
              "      <td>0.00</td>\n",
              "      <td>0.0</td>\n",
              "      <td>1</td>\n",
              "    </tr>\n",
              "    <tr>\n",
              "      <th>...</th>\n",
              "      <td>...</td>\n",
              "      <td>...</td>\n",
              "      <td>...</td>\n",
              "      <td>...</td>\n",
              "      <td>...</td>\n",
              "      <td>...</td>\n",
              "      <td>...</td>\n",
              "      <td>...</td>\n",
              "      <td>...</td>\n",
              "      <td>...</td>\n",
              "      <td>...</td>\n",
              "    </tr>\n",
              "    <tr>\n",
              "      <th>209</th>\n",
              "      <td>210</td>\n",
              "      <td>1.51623</td>\n",
              "      <td>14.14</td>\n",
              "      <td>0.00</td>\n",
              "      <td>2.88</td>\n",
              "      <td>72.61</td>\n",
              "      <td>0.08</td>\n",
              "      <td>9.18</td>\n",
              "      <td>1.06</td>\n",
              "      <td>0.0</td>\n",
              "      <td>7</td>\n",
              "    </tr>\n",
              "    <tr>\n",
              "      <th>210</th>\n",
              "      <td>211</td>\n",
              "      <td>1.51685</td>\n",
              "      <td>14.92</td>\n",
              "      <td>0.00</td>\n",
              "      <td>1.99</td>\n",
              "      <td>73.06</td>\n",
              "      <td>0.00</td>\n",
              "      <td>8.40</td>\n",
              "      <td>1.59</td>\n",
              "      <td>0.0</td>\n",
              "      <td>7</td>\n",
              "    </tr>\n",
              "    <tr>\n",
              "      <th>211</th>\n",
              "      <td>212</td>\n",
              "      <td>1.52065</td>\n",
              "      <td>14.36</td>\n",
              "      <td>0.00</td>\n",
              "      <td>2.02</td>\n",
              "      <td>73.42</td>\n",
              "      <td>0.00</td>\n",
              "      <td>8.44</td>\n",
              "      <td>1.64</td>\n",
              "      <td>0.0</td>\n",
              "      <td>7</td>\n",
              "    </tr>\n",
              "    <tr>\n",
              "      <th>212</th>\n",
              "      <td>213</td>\n",
              "      <td>1.51651</td>\n",
              "      <td>14.38</td>\n",
              "      <td>0.00</td>\n",
              "      <td>1.94</td>\n",
              "      <td>73.61</td>\n",
              "      <td>0.00</td>\n",
              "      <td>8.48</td>\n",
              "      <td>1.57</td>\n",
              "      <td>0.0</td>\n",
              "      <td>7</td>\n",
              "    </tr>\n",
              "    <tr>\n",
              "      <th>213</th>\n",
              "      <td>214</td>\n",
              "      <td>1.51711</td>\n",
              "      <td>14.23</td>\n",
              "      <td>0.00</td>\n",
              "      <td>2.08</td>\n",
              "      <td>73.36</td>\n",
              "      <td>0.00</td>\n",
              "      <td>8.62</td>\n",
              "      <td>1.67</td>\n",
              "      <td>0.0</td>\n",
              "      <td>7</td>\n",
              "    </tr>\n",
              "  </tbody>\n",
              "</table>\n",
              "<p>214 rows × 11 columns</p>\n",
              "</div>\n",
              "      <button class=\"colab-df-convert\" onclick=\"convertToInteractive('df-7a71edb9-c008-4f59-b743-99ad01f85b4e')\"\n",
              "              title=\"Convert this dataframe to an interactive table.\"\n",
              "              style=\"display:none;\">\n",
              "        \n",
              "  <svg xmlns=\"http://www.w3.org/2000/svg\" height=\"24px\"viewBox=\"0 0 24 24\"\n",
              "       width=\"24px\">\n",
              "    <path d=\"M0 0h24v24H0V0z\" fill=\"none\"/>\n",
              "    <path d=\"M18.56 5.44l.94 2.06.94-2.06 2.06-.94-2.06-.94-.94-2.06-.94 2.06-2.06.94zm-11 1L8.5 8.5l.94-2.06 2.06-.94-2.06-.94L8.5 2.5l-.94 2.06-2.06.94zm10 10l.94 2.06.94-2.06 2.06-.94-2.06-.94-.94-2.06-.94 2.06-2.06.94z\"/><path d=\"M17.41 7.96l-1.37-1.37c-.4-.4-.92-.59-1.43-.59-.52 0-1.04.2-1.43.59L10.3 9.45l-7.72 7.72c-.78.78-.78 2.05 0 2.83L4 21.41c.39.39.9.59 1.41.59.51 0 1.02-.2 1.41-.59l7.78-7.78 2.81-2.81c.8-.78.8-2.07 0-2.86zM5.41 20L4 18.59l7.72-7.72 1.47 1.35L5.41 20z\"/>\n",
              "  </svg>\n",
              "      </button>\n",
              "      \n",
              "  <style>\n",
              "    .colab-df-container {\n",
              "      display:flex;\n",
              "      flex-wrap:wrap;\n",
              "      gap: 12px;\n",
              "    }\n",
              "\n",
              "    .colab-df-convert {\n",
              "      background-color: #E8F0FE;\n",
              "      border: none;\n",
              "      border-radius: 50%;\n",
              "      cursor: pointer;\n",
              "      display: none;\n",
              "      fill: #1967D2;\n",
              "      height: 32px;\n",
              "      padding: 0 0 0 0;\n",
              "      width: 32px;\n",
              "    }\n",
              "\n",
              "    .colab-df-convert:hover {\n",
              "      background-color: #E2EBFA;\n",
              "      box-shadow: 0px 1px 2px rgba(60, 64, 67, 0.3), 0px 1px 3px 1px rgba(60, 64, 67, 0.15);\n",
              "      fill: #174EA6;\n",
              "    }\n",
              "\n",
              "    [theme=dark] .colab-df-convert {\n",
              "      background-color: #3B4455;\n",
              "      fill: #D2E3FC;\n",
              "    }\n",
              "\n",
              "    [theme=dark] .colab-df-convert:hover {\n",
              "      background-color: #434B5C;\n",
              "      box-shadow: 0px 1px 3px 1px rgba(0, 0, 0, 0.15);\n",
              "      filter: drop-shadow(0px 1px 2px rgba(0, 0, 0, 0.3));\n",
              "      fill: #FFFFFF;\n",
              "    }\n",
              "  </style>\n",
              "\n",
              "      <script>\n",
              "        const buttonEl =\n",
              "          document.querySelector('#df-7a71edb9-c008-4f59-b743-99ad01f85b4e button.colab-df-convert');\n",
              "        buttonEl.style.display =\n",
              "          google.colab.kernel.accessAllowed ? 'block' : 'none';\n",
              "\n",
              "        async function convertToInteractive(key) {\n",
              "          const element = document.querySelector('#df-7a71edb9-c008-4f59-b743-99ad01f85b4e');\n",
              "          const dataTable =\n",
              "            await google.colab.kernel.invokeFunction('convertToInteractive',\n",
              "                                                     [key], {});\n",
              "          if (!dataTable) return;\n",
              "\n",
              "          const docLinkHtml = 'Like what you see? Visit the ' +\n",
              "            '<a target=\"_blank\" href=https://colab.research.google.com/notebooks/data_table.ipynb>data table notebook</a>'\n",
              "            + ' to learn more about interactive tables.';\n",
              "          element.innerHTML = '';\n",
              "          dataTable['output_type'] = 'display_data';\n",
              "          await google.colab.output.renderOutput(dataTable, element);\n",
              "          const docLink = document.createElement('div');\n",
              "          docLink.innerHTML = docLinkHtml;\n",
              "          element.appendChild(docLink);\n",
              "        }\n",
              "      </script>\n",
              "    </div>\n",
              "  </div>\n",
              "  "
            ],
            "text/plain": [
              "      Id       RI     Na    Mg    Al  ...     K    Ca    Ba   Fe  Type of glass\n",
              "0      1  1.52101  13.64  4.49  1.10  ...  0.06  8.75  0.00  0.0              1\n",
              "1      2  1.51761  13.89  3.60  1.36  ...  0.48  7.83  0.00  0.0              1\n",
              "2      3  1.51618  13.53  3.55  1.54  ...  0.39  7.78  0.00  0.0              1\n",
              "3      4  1.51766  13.21  3.69  1.29  ...  0.57  8.22  0.00  0.0              1\n",
              "4      5  1.51742  13.27  3.62  1.24  ...  0.55  8.07  0.00  0.0              1\n",
              "..   ...      ...    ...   ...   ...  ...   ...   ...   ...  ...            ...\n",
              "209  210  1.51623  14.14  0.00  2.88  ...  0.08  9.18  1.06  0.0              7\n",
              "210  211  1.51685  14.92  0.00  1.99  ...  0.00  8.40  1.59  0.0              7\n",
              "211  212  1.52065  14.36  0.00  2.02  ...  0.00  8.44  1.64  0.0              7\n",
              "212  213  1.51651  14.38  0.00  1.94  ...  0.00  8.48  1.57  0.0              7\n",
              "213  214  1.51711  14.23  0.00  2.08  ...  0.00  8.62  1.67  0.0              7\n",
              "\n",
              "[214 rows x 11 columns]"
            ]
          },
          "metadata": {},
          "execution_count": 99
        }
      ]
    },
    {
      "cell_type": "code",
      "source": [
        "df.info()"
      ],
      "metadata": {
        "colab": {
          "base_uri": "https://localhost:8080/"
        },
        "id": "3vZc37PjKlH8",
        "outputId": "ce875038-7337-4a8b-bbe2-d19d21bc8538"
      },
      "execution_count": null,
      "outputs": [
        {
          "output_type": "stream",
          "name": "stdout",
          "text": [
            "<class 'pandas.core.frame.DataFrame'>\n",
            "RangeIndex: 214 entries, 0 to 213\n",
            "Data columns (total 11 columns):\n",
            " #   Column         Non-Null Count  Dtype  \n",
            "---  ------         --------------  -----  \n",
            " 0   Id             214 non-null    int64  \n",
            " 1   RI             214 non-null    float64\n",
            " 2   Na             214 non-null    float64\n",
            " 3   Mg             214 non-null    float64\n",
            " 4   Al             214 non-null    float64\n",
            " 5   Si             214 non-null    float64\n",
            " 6   K              214 non-null    float64\n",
            " 7   Ca             214 non-null    float64\n",
            " 8   Ba             214 non-null    float64\n",
            " 9   Fe             214 non-null    float64\n",
            " 10  Type of glass  214 non-null    int64  \n",
            "dtypes: float64(9), int64(2)\n",
            "memory usage: 18.5 KB\n"
          ]
        }
      ]
    },
    {
      "cell_type": "markdown",
      "source": [
        "We can see that we dont have any null values.\n",
        "We dont have any categorical columns , so we dont have to apply any encoding techniques.\n",
        " "
      ],
      "metadata": {
        "id": "8ODO4OnoL6Ut"
      }
    },
    {
      "cell_type": "code",
      "source": [
        "df.describe().T"
      ],
      "metadata": {
        "colab": {
          "base_uri": "https://localhost:8080/",
          "height": 394
        },
        "id": "zqLFhXkmNXik",
        "outputId": "8d0b1641-97ce-49dd-e1bb-984196c1800e"
      },
      "execution_count": null,
      "outputs": [
        {
          "output_type": "execute_result",
          "data": {
            "text/html": [
              "\n",
              "  <div id=\"df-5ac20e1b-4037-44a6-9fdc-317a25268e5b\">\n",
              "    <div class=\"colab-df-container\">\n",
              "      <div>\n",
              "<style scoped>\n",
              "    .dataframe tbody tr th:only-of-type {\n",
              "        vertical-align: middle;\n",
              "    }\n",
              "\n",
              "    .dataframe tbody tr th {\n",
              "        vertical-align: top;\n",
              "    }\n",
              "\n",
              "    .dataframe thead th {\n",
              "        text-align: right;\n",
              "    }\n",
              "</style>\n",
              "<table border=\"1\" class=\"dataframe\">\n",
              "  <thead>\n",
              "    <tr style=\"text-align: right;\">\n",
              "      <th></th>\n",
              "      <th>count</th>\n",
              "      <th>mean</th>\n",
              "      <th>std</th>\n",
              "      <th>min</th>\n",
              "      <th>25%</th>\n",
              "      <th>50%</th>\n",
              "      <th>75%</th>\n",
              "      <th>max</th>\n",
              "    </tr>\n",
              "  </thead>\n",
              "  <tbody>\n",
              "    <tr>\n",
              "      <th>Id</th>\n",
              "      <td>214.0</td>\n",
              "      <td>107.500000</td>\n",
              "      <td>61.920648</td>\n",
              "      <td>1.00000</td>\n",
              "      <td>54.250000</td>\n",
              "      <td>107.50000</td>\n",
              "      <td>160.750000</td>\n",
              "      <td>214.00000</td>\n",
              "    </tr>\n",
              "    <tr>\n",
              "      <th>RI</th>\n",
              "      <td>214.0</td>\n",
              "      <td>1.518365</td>\n",
              "      <td>0.003037</td>\n",
              "      <td>1.51115</td>\n",
              "      <td>1.516523</td>\n",
              "      <td>1.51768</td>\n",
              "      <td>1.519157</td>\n",
              "      <td>1.53393</td>\n",
              "    </tr>\n",
              "    <tr>\n",
              "      <th>Na</th>\n",
              "      <td>214.0</td>\n",
              "      <td>13.407850</td>\n",
              "      <td>0.816604</td>\n",
              "      <td>10.73000</td>\n",
              "      <td>12.907500</td>\n",
              "      <td>13.30000</td>\n",
              "      <td>13.825000</td>\n",
              "      <td>17.38000</td>\n",
              "    </tr>\n",
              "    <tr>\n",
              "      <th>Mg</th>\n",
              "      <td>214.0</td>\n",
              "      <td>2.684533</td>\n",
              "      <td>1.442408</td>\n",
              "      <td>0.00000</td>\n",
              "      <td>2.115000</td>\n",
              "      <td>3.48000</td>\n",
              "      <td>3.600000</td>\n",
              "      <td>4.49000</td>\n",
              "    </tr>\n",
              "    <tr>\n",
              "      <th>Al</th>\n",
              "      <td>214.0</td>\n",
              "      <td>1.444907</td>\n",
              "      <td>0.499270</td>\n",
              "      <td>0.29000</td>\n",
              "      <td>1.190000</td>\n",
              "      <td>1.36000</td>\n",
              "      <td>1.630000</td>\n",
              "      <td>3.50000</td>\n",
              "    </tr>\n",
              "    <tr>\n",
              "      <th>Si</th>\n",
              "      <td>214.0</td>\n",
              "      <td>72.650935</td>\n",
              "      <td>0.774546</td>\n",
              "      <td>69.81000</td>\n",
              "      <td>72.280000</td>\n",
              "      <td>72.79000</td>\n",
              "      <td>73.087500</td>\n",
              "      <td>75.41000</td>\n",
              "    </tr>\n",
              "    <tr>\n",
              "      <th>K</th>\n",
              "      <td>214.0</td>\n",
              "      <td>0.497056</td>\n",
              "      <td>0.652192</td>\n",
              "      <td>0.00000</td>\n",
              "      <td>0.122500</td>\n",
              "      <td>0.55500</td>\n",
              "      <td>0.610000</td>\n",
              "      <td>6.21000</td>\n",
              "    </tr>\n",
              "    <tr>\n",
              "      <th>Ca</th>\n",
              "      <td>214.0</td>\n",
              "      <td>8.956963</td>\n",
              "      <td>1.423153</td>\n",
              "      <td>5.43000</td>\n",
              "      <td>8.240000</td>\n",
              "      <td>8.60000</td>\n",
              "      <td>9.172500</td>\n",
              "      <td>16.19000</td>\n",
              "    </tr>\n",
              "    <tr>\n",
              "      <th>Ba</th>\n",
              "      <td>214.0</td>\n",
              "      <td>0.175047</td>\n",
              "      <td>0.497219</td>\n",
              "      <td>0.00000</td>\n",
              "      <td>0.000000</td>\n",
              "      <td>0.00000</td>\n",
              "      <td>0.000000</td>\n",
              "      <td>3.15000</td>\n",
              "    </tr>\n",
              "    <tr>\n",
              "      <th>Fe</th>\n",
              "      <td>214.0</td>\n",
              "      <td>0.057009</td>\n",
              "      <td>0.097439</td>\n",
              "      <td>0.00000</td>\n",
              "      <td>0.000000</td>\n",
              "      <td>0.00000</td>\n",
              "      <td>0.100000</td>\n",
              "      <td>0.51000</td>\n",
              "    </tr>\n",
              "    <tr>\n",
              "      <th>Type of glass</th>\n",
              "      <td>214.0</td>\n",
              "      <td>2.780374</td>\n",
              "      <td>2.103739</td>\n",
              "      <td>1.00000</td>\n",
              "      <td>1.000000</td>\n",
              "      <td>2.00000</td>\n",
              "      <td>3.000000</td>\n",
              "      <td>7.00000</td>\n",
              "    </tr>\n",
              "  </tbody>\n",
              "</table>\n",
              "</div>\n",
              "      <button class=\"colab-df-convert\" onclick=\"convertToInteractive('df-5ac20e1b-4037-44a6-9fdc-317a25268e5b')\"\n",
              "              title=\"Convert this dataframe to an interactive table.\"\n",
              "              style=\"display:none;\">\n",
              "        \n",
              "  <svg xmlns=\"http://www.w3.org/2000/svg\" height=\"24px\"viewBox=\"0 0 24 24\"\n",
              "       width=\"24px\">\n",
              "    <path d=\"M0 0h24v24H0V0z\" fill=\"none\"/>\n",
              "    <path d=\"M18.56 5.44l.94 2.06.94-2.06 2.06-.94-2.06-.94-.94-2.06-.94 2.06-2.06.94zm-11 1L8.5 8.5l.94-2.06 2.06-.94-2.06-.94L8.5 2.5l-.94 2.06-2.06.94zm10 10l.94 2.06.94-2.06 2.06-.94-2.06-.94-.94-2.06-.94 2.06-2.06.94z\"/><path d=\"M17.41 7.96l-1.37-1.37c-.4-.4-.92-.59-1.43-.59-.52 0-1.04.2-1.43.59L10.3 9.45l-7.72 7.72c-.78.78-.78 2.05 0 2.83L4 21.41c.39.39.9.59 1.41.59.51 0 1.02-.2 1.41-.59l7.78-7.78 2.81-2.81c.8-.78.8-2.07 0-2.86zM5.41 20L4 18.59l7.72-7.72 1.47 1.35L5.41 20z\"/>\n",
              "  </svg>\n",
              "      </button>\n",
              "      \n",
              "  <style>\n",
              "    .colab-df-container {\n",
              "      display:flex;\n",
              "      flex-wrap:wrap;\n",
              "      gap: 12px;\n",
              "    }\n",
              "\n",
              "    .colab-df-convert {\n",
              "      background-color: #E8F0FE;\n",
              "      border: none;\n",
              "      border-radius: 50%;\n",
              "      cursor: pointer;\n",
              "      display: none;\n",
              "      fill: #1967D2;\n",
              "      height: 32px;\n",
              "      padding: 0 0 0 0;\n",
              "      width: 32px;\n",
              "    }\n",
              "\n",
              "    .colab-df-convert:hover {\n",
              "      background-color: #E2EBFA;\n",
              "      box-shadow: 0px 1px 2px rgba(60, 64, 67, 0.3), 0px 1px 3px 1px rgba(60, 64, 67, 0.15);\n",
              "      fill: #174EA6;\n",
              "    }\n",
              "\n",
              "    [theme=dark] .colab-df-convert {\n",
              "      background-color: #3B4455;\n",
              "      fill: #D2E3FC;\n",
              "    }\n",
              "\n",
              "    [theme=dark] .colab-df-convert:hover {\n",
              "      background-color: #434B5C;\n",
              "      box-shadow: 0px 1px 3px 1px rgba(0, 0, 0, 0.15);\n",
              "      filter: drop-shadow(0px 1px 2px rgba(0, 0, 0, 0.3));\n",
              "      fill: #FFFFFF;\n",
              "    }\n",
              "  </style>\n",
              "\n",
              "      <script>\n",
              "        const buttonEl =\n",
              "          document.querySelector('#df-5ac20e1b-4037-44a6-9fdc-317a25268e5b button.colab-df-convert');\n",
              "        buttonEl.style.display =\n",
              "          google.colab.kernel.accessAllowed ? 'block' : 'none';\n",
              "\n",
              "        async function convertToInteractive(key) {\n",
              "          const element = document.querySelector('#df-5ac20e1b-4037-44a6-9fdc-317a25268e5b');\n",
              "          const dataTable =\n",
              "            await google.colab.kernel.invokeFunction('convertToInteractive',\n",
              "                                                     [key], {});\n",
              "          if (!dataTable) return;\n",
              "\n",
              "          const docLinkHtml = 'Like what you see? Visit the ' +\n",
              "            '<a target=\"_blank\" href=https://colab.research.google.com/notebooks/data_table.ipynb>data table notebook</a>'\n",
              "            + ' to learn more about interactive tables.';\n",
              "          element.innerHTML = '';\n",
              "          dataTable['output_type'] = 'display_data';\n",
              "          await google.colab.output.renderOutput(dataTable, element);\n",
              "          const docLink = document.createElement('div');\n",
              "          docLink.innerHTML = docLinkHtml;\n",
              "          element.appendChild(docLink);\n",
              "        }\n",
              "      </script>\n",
              "    </div>\n",
              "  </div>\n",
              "  "
            ],
            "text/plain": [
              "               count        mean        std  ...        50%         75%        max\n",
              "Id             214.0  107.500000  61.920648  ...  107.50000  160.750000  214.00000\n",
              "RI             214.0    1.518365   0.003037  ...    1.51768    1.519157    1.53393\n",
              "Na             214.0   13.407850   0.816604  ...   13.30000   13.825000   17.38000\n",
              "Mg             214.0    2.684533   1.442408  ...    3.48000    3.600000    4.49000\n",
              "Al             214.0    1.444907   0.499270  ...    1.36000    1.630000    3.50000\n",
              "Si             214.0   72.650935   0.774546  ...   72.79000   73.087500   75.41000\n",
              "K              214.0    0.497056   0.652192  ...    0.55500    0.610000    6.21000\n",
              "Ca             214.0    8.956963   1.423153  ...    8.60000    9.172500   16.19000\n",
              "Ba             214.0    0.175047   0.497219  ...    0.00000    0.000000    3.15000\n",
              "Fe             214.0    0.057009   0.097439  ...    0.00000    0.100000    0.51000\n",
              "Type of glass  214.0    2.780374   2.103739  ...    2.00000    3.000000    7.00000\n",
              "\n",
              "[11 rows x 8 columns]"
            ]
          },
          "metadata": {},
          "execution_count": 101
        }
      ]
    },
    {
      "cell_type": "markdown",
      "source": [
        "let us check the outliers of each column using boxplot.\n",
        "It is a standardized way of displaying the distribution of data. Any data points which are less than Q1-1.5IQR or greater than Q3+1.5IQR are considered to be outliers."
      ],
      "metadata": {
        "id": "TWfyxsmoNw1t"
      }
    },
    {
      "cell_type": "code",
      "source": [
        "plt.rcParams['figure.figsize']=(20,5)\n",
        "sns.boxplot(df[\"Fe\"], color='brown')"
      ],
      "metadata": {
        "colab": {
          "base_uri": "https://localhost:8080/",
          "height": 411
        },
        "id": "9jHT0AAnNdZb",
        "outputId": "edcae174-f9bd-4e7f-93af-4c35036e41b3"
      },
      "execution_count": null,
      "outputs": [
        {
          "output_type": "stream",
          "name": "stderr",
          "text": [
            "/usr/local/lib/python3.7/dist-packages/seaborn/_decorators.py:43: FutureWarning: Pass the following variable as a keyword arg: x. From version 0.12, the only valid positional argument will be `data`, and passing other arguments without an explicit keyword will result in an error or misinterpretation.\n",
            "  FutureWarning\n"
          ]
        },
        {
          "output_type": "execute_result",
          "data": {
            "text/plain": [
              "<matplotlib.axes._subplots.AxesSubplot at 0x7fdf43dcd410>"
            ]
          },
          "metadata": {},
          "execution_count": 102
        },
        {
          "output_type": "display_data",
          "data": {
            "image/png": "[encoded data removed]",
            "text/plain": [
              "<Figure size 1440x360 with 1 Axes>"
            ]
          },
          "metadata": {}
        }
      ]
    },
    {
      "cell_type": "code",
      "source": [
        "df['Fe'].sort_values(ascending = False).head(11)"
      ],
      "metadata": {
        "colab": {
          "base_uri": "https://localhost:8080/"
        },
        "id": "PhqJuQz1L5BW",
        "outputId": "cfab9ee8-14c1-4c44-d1f5-afa3f09ac706"
      },
      "execution_count": null,
      "outputs": [
        {
          "output_type": "execute_result",
          "data": {
            "text/plain": [
              "174    0.51\n",
              "162    0.37\n",
              "145    0.35\n",
              "105    0.34\n",
              "71     0.32\n",
              "56     0.31\n",
              "44     0.30\n",
              "118    0.29\n",
              "175    0.28\n",
              "106    0.28\n",
              "135    0.28\n",
              "Name: Fe, dtype: float64"
            ]
          },
          "metadata": {},
          "execution_count": 103
        }
      ]
    },
    {
      "cell_type": "markdown",
      "source": [
        ""
      ],
      "metadata": {
        "id": "Gm8xQLUyTlft"
      }
    },
    {
      "cell_type": "code",
      "source": [
        "df[df[\"Fe\"]>=0.28]"
      ],
      "metadata": {
        "colab": {
          "base_uri": "https://localhost:8080/",
          "height": 394
        },
        "id": "EnViAGRSTk3s",
        "outputId": "b217de0c-57e5-4b8b-d611-05163cf8c969"
      },
      "execution_count": null,
      "outputs": [
        {
          "output_type": "execute_result",
          "data": {
            "text/html": [
              "\n",
              "  <div id=\"df-4f7b7a44-774b-4419-b75a-0b82d21fb613\">\n",
              "    <div class=\"colab-df-container\">\n",
              "      <div>\n",
              "<style scoped>\n",
              "    .dataframe tbody tr th:only-of-type {\n",
              "        vertical-align: middle;\n",
              "    }\n",
              "\n",
              "    .dataframe tbody tr th {\n",
              "        vertical-align: top;\n",
              "    }\n",
              "\n",
              "    .dataframe thead th {\n",
              "        text-align: right;\n",
              "    }\n",
              "</style>\n",
              "<table border=\"1\" class=\"dataframe\">\n",
              "  <thead>\n",
              "    <tr style=\"text-align: right;\">\n",
              "      <th></th>\n",
              "      <th>Id</th>\n",
              "      <th>RI</th>\n",
              "      <th>Na</th>\n",
              "      <th>Mg</th>\n",
              "      <th>Al</th>\n",
              "      <th>Si</th>\n",
              "      <th>K</th>\n",
              "      <th>Ca</th>\n",
              "      <th>Ba</th>\n",
              "      <th>Fe</th>\n",
              "      <th>Type of glass</th>\n",
              "    </tr>\n",
              "  </thead>\n",
              "  <tbody>\n",
              "    <tr>\n",
              "      <th>44</th>\n",
              "      <td>45</td>\n",
              "      <td>1.51786</td>\n",
              "      <td>12.73</td>\n",
              "      <td>3.43</td>\n",
              "      <td>1.19</td>\n",
              "      <td>72.95</td>\n",
              "      <td>0.62</td>\n",
              "      <td>8.76</td>\n",
              "      <td>0.00</td>\n",
              "      <td>0.30</td>\n",
              "      <td>1</td>\n",
              "    </tr>\n",
              "    <tr>\n",
              "      <th>56</th>\n",
              "      <td>57</td>\n",
              "      <td>1.51215</td>\n",
              "      <td>12.99</td>\n",
              "      <td>3.47</td>\n",
              "      <td>1.12</td>\n",
              "      <td>72.98</td>\n",
              "      <td>0.62</td>\n",
              "      <td>8.35</td>\n",
              "      <td>0.00</td>\n",
              "      <td>0.31</td>\n",
              "      <td>1</td>\n",
              "    </tr>\n",
              "    <tr>\n",
              "      <th>71</th>\n",
              "      <td>72</td>\n",
              "      <td>1.51848</td>\n",
              "      <td>13.64</td>\n",
              "      <td>3.87</td>\n",
              "      <td>1.27</td>\n",
              "      <td>71.96</td>\n",
              "      <td>0.54</td>\n",
              "      <td>8.32</td>\n",
              "      <td>0.00</td>\n",
              "      <td>0.32</td>\n",
              "      <td>2</td>\n",
              "    </tr>\n",
              "    <tr>\n",
              "      <th>105</th>\n",
              "      <td>106</td>\n",
              "      <td>1.52475</td>\n",
              "      <td>11.45</td>\n",
              "      <td>0.00</td>\n",
              "      <td>1.88</td>\n",
              "      <td>72.19</td>\n",
              "      <td>0.81</td>\n",
              "      <td>13.24</td>\n",
              "      <td>0.00</td>\n",
              "      <td>0.34</td>\n",
              "      <td>2</td>\n",
              "    </tr>\n",
              "    <tr>\n",
              "      <th>106</th>\n",
              "      <td>107</td>\n",
              "      <td>1.53125</td>\n",
              "      <td>10.73</td>\n",
              "      <td>0.00</td>\n",
              "      <td>2.10</td>\n",
              "      <td>69.81</td>\n",
              "      <td>0.58</td>\n",
              "      <td>13.30</td>\n",
              "      <td>3.15</td>\n",
              "      <td>0.28</td>\n",
              "      <td>2</td>\n",
              "    </tr>\n",
              "    <tr>\n",
              "      <th>118</th>\n",
              "      <td>119</td>\n",
              "      <td>1.51673</td>\n",
              "      <td>13.30</td>\n",
              "      <td>3.64</td>\n",
              "      <td>1.53</td>\n",
              "      <td>72.53</td>\n",
              "      <td>0.65</td>\n",
              "      <td>8.03</td>\n",
              "      <td>0.00</td>\n",
              "      <td>0.29</td>\n",
              "      <td>2</td>\n",
              "    </tr>\n",
              "    <tr>\n",
              "      <th>135</th>\n",
              "      <td>136</td>\n",
              "      <td>1.51789</td>\n",
              "      <td>13.19</td>\n",
              "      <td>3.90</td>\n",
              "      <td>1.30</td>\n",
              "      <td>72.33</td>\n",
              "      <td>0.55</td>\n",
              "      <td>8.44</td>\n",
              "      <td>0.00</td>\n",
              "      <td>0.28</td>\n",
              "      <td>2</td>\n",
              "    </tr>\n",
              "    <tr>\n",
              "      <th>145</th>\n",
              "      <td>146</td>\n",
              "      <td>1.51839</td>\n",
              "      <td>12.85</td>\n",
              "      <td>3.67</td>\n",
              "      <td>1.24</td>\n",
              "      <td>72.57</td>\n",
              "      <td>0.62</td>\n",
              "      <td>8.68</td>\n",
              "      <td>0.00</td>\n",
              "      <td>0.35</td>\n",
              "      <td>2</td>\n",
              "    </tr>\n",
              "    <tr>\n",
              "      <th>162</th>\n",
              "      <td>163</td>\n",
              "      <td>1.52211</td>\n",
              "      <td>14.19</td>\n",
              "      <td>3.78</td>\n",
              "      <td>0.91</td>\n",
              "      <td>71.36</td>\n",
              "      <td>0.23</td>\n",
              "      <td>9.14</td>\n",
              "      <td>0.00</td>\n",
              "      <td>0.37</td>\n",
              "      <td>3</td>\n",
              "    </tr>\n",
              "    <tr>\n",
              "      <th>174</th>\n",
              "      <td>175</td>\n",
              "      <td>1.52058</td>\n",
              "      <td>12.85</td>\n",
              "      <td>1.61</td>\n",
              "      <td>2.17</td>\n",
              "      <td>72.18</td>\n",
              "      <td>0.76</td>\n",
              "      <td>9.70</td>\n",
              "      <td>0.24</td>\n",
              "      <td>0.51</td>\n",
              "      <td>5</td>\n",
              "    </tr>\n",
              "    <tr>\n",
              "      <th>175</th>\n",
              "      <td>176</td>\n",
              "      <td>1.52119</td>\n",
              "      <td>12.97</td>\n",
              "      <td>0.33</td>\n",
              "      <td>1.51</td>\n",
              "      <td>73.39</td>\n",
              "      <td>0.13</td>\n",
              "      <td>11.27</td>\n",
              "      <td>0.00</td>\n",
              "      <td>0.28</td>\n",
              "      <td>5</td>\n",
              "    </tr>\n",
              "  </tbody>\n",
              "</table>\n",
              "</div>\n",
              "      <button class=\"colab-df-convert\" onclick=\"convertToInteractive('df-4f7b7a44-774b-4419-b75a-0b82d21fb613')\"\n",
              "              title=\"Convert this dataframe to an interactive table.\"\n",
              "              style=\"display:none;\">\n",
              "        \n",
              "  <svg xmlns=\"http://www.w3.org/2000/svg\" height=\"24px\"viewBox=\"0 0 24 24\"\n",
              "       width=\"24px\">\n",
              "    <path d=\"M0 0h24v24H0V0z\" fill=\"none\"/>\n",
              "    <path d=\"M18.56 5.44l.94 2.06.94-2.06 2.06-.94-2.06-.94-.94-2.06-.94 2.06-2.06.94zm-11 1L8.5 8.5l.94-2.06 2.06-.94-2.06-.94L8.5 2.5l-.94 2.06-2.06.94zm10 10l.94 2.06.94-2.06 2.06-.94-2.06-.94-.94-2.06-.94 2.06-2.06.94z\"/><path d=\"M17.41 7.96l-1.37-1.37c-.4-.4-.92-.59-1.43-.59-.52 0-1.04.2-1.43.59L10.3 9.45l-7.72 7.72c-.78.78-.78 2.05 0 2.83L4 21.41c.39.39.9.59 1.41.59.51 0 1.02-.2 1.41-.59l7.78-7.78 2.81-2.81c.8-.78.8-2.07 0-2.86zM5.41 20L4 18.59l7.72-7.72 1.47 1.35L5.41 20z\"/>\n",
              "  </svg>\n",
              "      </button>\n",
              "      \n",
              "  <style>\n",
              "    .colab-df-container {\n",
              "      display:flex;\n",
              "      flex-wrap:wrap;\n",
              "      gap: 12px;\n",
              "    }\n",
              "\n",
              "    .colab-df-convert {\n",
              "      background-color: #E8F0FE;\n",
              "      border: none;\n",
              "      border-radius: 50%;\n",
              "      cursor: pointer;\n",
              "      display: none;\n",
              "      fill: #1967D2;\n",
              "      height: 32px;\n",
              "      padding: 0 0 0 0;\n",
              "      width: 32px;\n",
              "    }\n",
              "\n",
              "    .colab-df-convert:hover {\n",
              "      background-color: #E2EBFA;\n",
              "      box-shadow: 0px 1px 2px rgba(60, 64, 67, 0.3), 0px 1px 3px 1px rgba(60, 64, 67, 0.15);\n",
              "      fill: #174EA6;\n",
              "    }\n",
              "\n",
              "    [theme=dark] .colab-df-convert {\n",
              "      background-color: #3B4455;\n",
              "      fill: #D2E3FC;\n",
              "    }\n",
              "\n",
              "    [theme=dark] .colab-df-convert:hover {\n",
              "      background-color: #434B5C;\n",
              "      box-shadow: 0px 1px 3px 1px rgba(0, 0, 0, 0.15);\n",
              "      filter: drop-shadow(0px 1px 2px rgba(0, 0, 0, 0.3));\n",
              "      fill: #FFFFFF;\n",
              "    }\n",
              "  </style>\n",
              "\n",
              "      <script>\n",
              "        const buttonEl =\n",
              "          document.querySelector('#df-4f7b7a44-774b-4419-b75a-0b82d21fb613 button.colab-df-convert');\n",
              "        buttonEl.style.display =\n",
              "          google.colab.kernel.accessAllowed ? 'block' : 'none';\n",
              "\n",
              "        async function convertToInteractive(key) {\n",
              "          const element = document.querySelector('#df-4f7b7a44-774b-4419-b75a-0b82d21fb613');\n",
              "          const dataTable =\n",
              "            await google.colab.kernel.invokeFunction('convertToInteractive',\n",
              "                                                     [key], {});\n",
              "          if (!dataTable) return;\n",
              "\n",
              "          const docLinkHtml = 'Like what you see? Visit the ' +\n",
              "            '<a target=\"_blank\" href=https://colab.research.google.com/notebooks/data_table.ipynb>data table notebook</a>'\n",
              "            + ' to learn more about interactive tables.';\n",
              "          element.innerHTML = '';\n",
              "          dataTable['output_type'] = 'display_data';\n",
              "          await google.colab.output.renderOutput(dataTable, element);\n",
              "          const docLink = document.createElement('div');\n",
              "          docLink.innerHTML = docLinkHtml;\n",
              "          element.appendChild(docLink);\n",
              "        }\n",
              "      </script>\n",
              "    </div>\n",
              "  </div>\n",
              "  "
            ],
            "text/plain": [
              "      Id       RI     Na    Mg    Al  ...     K     Ca    Ba    Fe  Type of glass\n",
              "44    45  1.51786  12.73  3.43  1.19  ...  0.62   8.76  0.00  0.30              1\n",
              "56    57  1.51215  12.99  3.47  1.12  ...  0.62   8.35  0.00  0.31              1\n",
              "71    72  1.51848  13.64  3.87  1.27  ...  0.54   8.32  0.00  0.32              2\n",
              "105  106  1.52475  11.45  0.00  1.88  ...  0.81  13.24  0.00  0.34              2\n",
              "106  107  1.53125  10.73  0.00  2.10  ...  0.58  13.30  3.15  0.28              2\n",
              "118  119  1.51673  13.30  3.64  1.53  ...  0.65   8.03  0.00  0.29              2\n",
              "135  136  1.51789  13.19  3.90  1.30  ...  0.55   8.44  0.00  0.28              2\n",
              "145  146  1.51839  12.85  3.67  1.24  ...  0.62   8.68  0.00  0.35              2\n",
              "162  163  1.52211  14.19  3.78  0.91  ...  0.23   9.14  0.00  0.37              3\n",
              "174  175  1.52058  12.85  1.61  2.17  ...  0.76   9.70  0.24  0.51              5\n",
              "175  176  1.52119  12.97  0.33  1.51  ...  0.13  11.27  0.00  0.28              5\n",
              "\n",
              "[11 rows x 11 columns]"
            ]
          },
          "metadata": {},
          "execution_count": 104
        }
      ]
    },
    {
      "cell_type": "markdown",
      "source": [
        "As the range is too small to differentiate without domain knowledge , I am not handling the outliers for this , column."
      ],
      "metadata": {
        "id": "qMeUMYUnU1-8"
      }
    },
    {
      "cell_type": "code",
      "source": [
        "plt.rcParams['figure.figsize']=(20,5)\n",
        "sns.boxplot(df[\"RI\"], color='brown')"
      ],
      "metadata": {
        "colab": {
          "base_uri": "https://localhost:8080/",
          "height": 411
        },
        "id": "qiB2v_6EUJkx",
        "outputId": "d4b08de3-da62-4735-b3a8-231394f0ba03"
      },
      "execution_count": null,
      "outputs": [
        {
          "output_type": "stream",
          "name": "stderr",
          "text": [
            "/usr/local/lib/python3.7/dist-packages/seaborn/_decorators.py:43: FutureWarning: Pass the following variable as a keyword arg: x. From version 0.12, the only valid positional argument will be `data`, and passing other arguments without an explicit keyword will result in an error or misinterpretation.\n",
            "  FutureWarning\n"
          ]
        },
        {
          "output_type": "execute_result",
          "data": {
            "text/plain": [
              "<matplotlib.axes._subplots.AxesSubplot at 0x7fdf43d5e7d0>"
            ]
          },
          "metadata": {},
          "execution_count": 105
        },
        {
          "output_type": "display_data",
          "data": {
            "image/png": "[encoded data removed]",
            "text/plain": [
              "<Figure size 1440x360 with 1 Axes>"
            ]
          },
          "metadata": {}
        }
      ]
    },
    {
      "cell_type": "markdown",
      "source": [
        "Range is too small for \"RI\" column also , hence not performing any Outlier handling"
      ],
      "metadata": {
        "id": "THc3ON0sVRjM"
      }
    },
    {
      "cell_type": "code",
      "source": [
        "plt.rcParams['figure.figsize']=(20,5)\n",
        "sns.boxplot(df[\"Na\"], color='brown')"
      ],
      "metadata": {
        "colab": {
          "base_uri": "https://localhost:8080/",
          "height": 411
        },
        "id": "x67qZJrNVaC0",
        "outputId": "9527c9fd-c542-4aba-effa-3f98e27dae0c"
      },
      "execution_count": null,
      "outputs": [
        {
          "output_type": "stream",
          "name": "stderr",
          "text": [
            "/usr/local/lib/python3.7/dist-packages/seaborn/_decorators.py:43: FutureWarning: Pass the following variable as a keyword arg: x. From version 0.12, the only valid positional argument will be `data`, and passing other arguments without an explicit keyword will result in an error or misinterpretation.\n",
            "  FutureWarning\n"
          ]
        },
        {
          "output_type": "execute_result",
          "data": {
            "text/plain": [
              "<matplotlib.axes._subplots.AxesSubplot at 0x7fdf43cc5490>"
            ]
          },
          "metadata": {},
          "execution_count": 106
        },
        {
          "output_type": "display_data",
          "data": {
            "image/png": "[encoded data removed]",
            "text/plain": [
              "<Figure size 1440x360 with 1 Axes>"
            ]
          },
          "metadata": {}
        }
      ]
    },
    {
      "cell_type": "code",
      "source": [
        "df[df[\"Na\"]>=15]"
      ],
      "metadata": {
        "colab": {
          "base_uri": "https://localhost:8080/",
          "height": 174
        },
        "id": "ufZe3F8oVp0d",
        "outputId": "130f3c4c-8e67-4c85-a551-8b34fee43935"
      },
      "execution_count": null,
      "outputs": [
        {
          "output_type": "execute_result",
          "data": {
            "text/html": [
              "\n",
              "  <div id=\"df-d7d2ea78-d638-4f45-b161-825484da2ad8\">\n",
              "    <div class=\"colab-df-container\">\n",
              "      <div>\n",
              "<style scoped>\n",
              "    .dataframe tbody tr th:only-of-type {\n",
              "        vertical-align: middle;\n",
              "    }\n",
              "\n",
              "    .dataframe tbody tr th {\n",
              "        vertical-align: top;\n",
              "    }\n",
              "\n",
              "    .dataframe thead th {\n",
              "        text-align: right;\n",
              "    }\n",
              "</style>\n",
              "<table border=\"1\" class=\"dataframe\">\n",
              "  <thead>\n",
              "    <tr style=\"text-align: right;\">\n",
              "      <th></th>\n",
              "      <th>Id</th>\n",
              "      <th>RI</th>\n",
              "      <th>Na</th>\n",
              "      <th>Mg</th>\n",
              "      <th>Al</th>\n",
              "      <th>Si</th>\n",
              "      <th>K</th>\n",
              "      <th>Ca</th>\n",
              "      <th>Ba</th>\n",
              "      <th>Fe</th>\n",
              "      <th>Type of glass</th>\n",
              "    </tr>\n",
              "  </thead>\n",
              "  <tbody>\n",
              "    <tr>\n",
              "      <th>184</th>\n",
              "      <td>185</td>\n",
              "      <td>1.51115</td>\n",
              "      <td>17.38</td>\n",
              "      <td>0.00</td>\n",
              "      <td>0.34</td>\n",
              "      <td>75.41</td>\n",
              "      <td>0.00</td>\n",
              "      <td>6.65</td>\n",
              "      <td>0.00</td>\n",
              "      <td>0.0</td>\n",
              "      <td>6</td>\n",
              "    </tr>\n",
              "    <tr>\n",
              "      <th>189</th>\n",
              "      <td>190</td>\n",
              "      <td>1.52365</td>\n",
              "      <td>15.79</td>\n",
              "      <td>1.83</td>\n",
              "      <td>1.31</td>\n",
              "      <td>70.43</td>\n",
              "      <td>0.31</td>\n",
              "      <td>8.61</td>\n",
              "      <td>1.68</td>\n",
              "      <td>0.0</td>\n",
              "      <td>7</td>\n",
              "    </tr>\n",
              "    <tr>\n",
              "      <th>199</th>\n",
              "      <td>200</td>\n",
              "      <td>1.51609</td>\n",
              "      <td>15.01</td>\n",
              "      <td>0.00</td>\n",
              "      <td>2.51</td>\n",
              "      <td>73.05</td>\n",
              "      <td>0.05</td>\n",
              "      <td>8.83</td>\n",
              "      <td>0.53</td>\n",
              "      <td>0.0</td>\n",
              "      <td>7</td>\n",
              "    </tr>\n",
              "    <tr>\n",
              "      <th>200</th>\n",
              "      <td>201</td>\n",
              "      <td>1.51508</td>\n",
              "      <td>15.15</td>\n",
              "      <td>0.00</td>\n",
              "      <td>2.25</td>\n",
              "      <td>73.50</td>\n",
              "      <td>0.00</td>\n",
              "      <td>8.34</td>\n",
              "      <td>0.63</td>\n",
              "      <td>0.0</td>\n",
              "      <td>7</td>\n",
              "    </tr>\n",
              "  </tbody>\n",
              "</table>\n",
              "</div>\n",
              "      <button class=\"colab-df-convert\" onclick=\"convertToInteractive('df-d7d2ea78-d638-4f45-b161-825484da2ad8')\"\n",
              "              title=\"Convert this dataframe to an interactive table.\"\n",
              "              style=\"display:none;\">\n",
              "        \n",
              "  <svg xmlns=\"http://www.w3.org/2000/svg\" height=\"24px\"viewBox=\"0 0 24 24\"\n",
              "       width=\"24px\">\n",
              "    <path d=\"M0 0h24v24H0V0z\" fill=\"none\"/>\n",
              "    <path d=\"M18.56 5.44l.94 2.06.94-2.06 2.06-.94-2.06-.94-.94-2.06-.94 2.06-2.06.94zm-11 1L8.5 8.5l.94-2.06 2.06-.94-2.06-.94L8.5 2.5l-.94 2.06-2.06.94zm10 10l.94 2.06.94-2.06 2.06-.94-2.06-.94-.94-2.06-.94 2.06-2.06.94z\"/><path d=\"M17.41 7.96l-1.37-1.37c-.4-.4-.92-.59-1.43-.59-.52 0-1.04.2-1.43.59L10.3 9.45l-7.72 7.72c-.78.78-.78 2.05 0 2.83L4 21.41c.39.39.9.59 1.41.59.51 0 1.02-.2 1.41-.59l7.78-7.78 2.81-2.81c.8-.78.8-2.07 0-2.86zM5.41 20L4 18.59l7.72-7.72 1.47 1.35L5.41 20z\"/>\n",
              "  </svg>\n",
              "      </button>\n",
              "      \n",
              "  <style>\n",
              "    .colab-df-container {\n",
              "      display:flex;\n",
              "      flex-wrap:wrap;\n",
              "      gap: 12px;\n",
              "    }\n",
              "\n",
              "    .colab-df-convert {\n",
              "      background-color: #E8F0FE;\n",
              "      border: none;\n",
              "      border-radius: 50%;\n",
              "      cursor: pointer;\n",
              "      display: none;\n",
              "      fill: #1967D2;\n",
              "      height: 32px;\n",
              "      padding: 0 0 0 0;\n",
              "      width: 32px;\n",
              "    }\n",
              "\n",
              "    .colab-df-convert:hover {\n",
              "      background-color: #E2EBFA;\n",
              "      box-shadow: 0px 1px 2px rgba(60, 64, 67, 0.3), 0px 1px 3px 1px rgba(60, 64, 67, 0.15);\n",
              "      fill: #174EA6;\n",
              "    }\n",
              "\n",
              "    [theme=dark] .colab-df-convert {\n",
              "      background-color: #3B4455;\n",
              "      fill: #D2E3FC;\n",
              "    }\n",
              "\n",
              "    [theme=dark] .colab-df-convert:hover {\n",
              "      background-color: #434B5C;\n",
              "      box-shadow: 0px 1px 3px 1px rgba(0, 0, 0, 0.15);\n",
              "      filter: drop-shadow(0px 1px 2px rgba(0, 0, 0, 0.3));\n",
              "      fill: #FFFFFF;\n",
              "    }\n",
              "  </style>\n",
              "\n",
              "      <script>\n",
              "        const buttonEl =\n",
              "          document.querySelector('#df-d7d2ea78-d638-4f45-b161-825484da2ad8 button.colab-df-convert');\n",
              "        buttonEl.style.display =\n",
              "          google.colab.kernel.accessAllowed ? 'block' : 'none';\n",
              "\n",
              "        async function convertToInteractive(key) {\n",
              "          const element = document.querySelector('#df-d7d2ea78-d638-4f45-b161-825484da2ad8');\n",
              "          const dataTable =\n",
              "            await google.colab.kernel.invokeFunction('convertToInteractive',\n",
              "                                                     [key], {});\n",
              "          if (!dataTable) return;\n",
              "\n",
              "          const docLinkHtml = 'Like what you see? Visit the ' +\n",
              "            '<a target=\"_blank\" href=https://colab.research.google.com/notebooks/data_table.ipynb>data table notebook</a>'\n",
              "            + ' to learn more about interactive tables.';\n",
              "          element.innerHTML = '';\n",
              "          dataTable['output_type'] = 'display_data';\n",
              "          await google.colab.output.renderOutput(dataTable, element);\n",
              "          const docLink = document.createElement('div');\n",
              "          docLink.innerHTML = docLinkHtml;\n",
              "          element.appendChild(docLink);\n",
              "        }\n",
              "      </script>\n",
              "    </div>\n",
              "  </div>\n",
              "  "
            ],
            "text/plain": [
              "      Id       RI     Na    Mg    Al  ...     K    Ca    Ba   Fe  Type of glass\n",
              "184  185  1.51115  17.38  0.00  0.34  ...  0.00  6.65  0.00  0.0              6\n",
              "189  190  1.52365  15.79  1.83  1.31  ...  0.31  8.61  1.68  0.0              7\n",
              "199  200  1.51609  15.01  0.00  2.51  ...  0.05  8.83  0.53  0.0              7\n",
              "200  201  1.51508  15.15  0.00  2.25  ...  0.00  8.34  0.63  0.0              7\n",
              "\n",
              "[4 rows x 11 columns]"
            ]
          },
          "metadata": {},
          "execution_count": 107
        }
      ]
    },
    {
      "cell_type": "code",
      "source": [
        "(df[[\"Na\",\"Type of glass\"]][df[\"Type of glass\"]==7])"
      ],
      "metadata": {
        "colab": {
          "base_uri": "https://localhost:8080/",
          "height": 958
        },
        "id": "y9kAgegDWwCz",
        "outputId": "5fdeb285-b881-4843-8b3b-807a9082f626"
      },
      "execution_count": null,
      "outputs": [
        {
          "output_type": "execute_result",
          "data": {
            "text/html": [
              "\n",
              "  <div id=\"df-5245715d-846c-404c-81d6-cadf431be038\">\n",
              "    <div class=\"colab-df-container\">\n",
              "      <div>\n",
              "<style scoped>\n",
              "    .dataframe tbody tr th:only-of-type {\n",
              "        vertical-align: middle;\n",
              "    }\n",
              "\n",
              "    .dataframe tbody tr th {\n",
              "        vertical-align: top;\n",
              "    }\n",
              "\n",
              "    .dataframe thead th {\n",
              "        text-align: right;\n",
              "    }\n",
              "</style>\n",
              "<table border=\"1\" class=\"dataframe\">\n",
              "  <thead>\n",
              "    <tr style=\"text-align: right;\">\n",
              "      <th></th>\n",
              "      <th>Na</th>\n",
              "      <th>Type of glass</th>\n",
              "    </tr>\n",
              "  </thead>\n",
              "  <tbody>\n",
              "    <tr>\n",
              "      <th>185</th>\n",
              "      <td>13.69</td>\n",
              "      <td>7</td>\n",
              "    </tr>\n",
              "    <tr>\n",
              "      <th>186</th>\n",
              "      <td>14.32</td>\n",
              "      <td>7</td>\n",
              "    </tr>\n",
              "    <tr>\n",
              "      <th>187</th>\n",
              "      <td>13.44</td>\n",
              "      <td>7</td>\n",
              "    </tr>\n",
              "    <tr>\n",
              "      <th>188</th>\n",
              "      <td>14.86</td>\n",
              "      <td>7</td>\n",
              "    </tr>\n",
              "    <tr>\n",
              "      <th>189</th>\n",
              "      <td>15.79</td>\n",
              "      <td>7</td>\n",
              "    </tr>\n",
              "    <tr>\n",
              "      <th>190</th>\n",
              "      <td>13.88</td>\n",
              "      <td>7</td>\n",
              "    </tr>\n",
              "    <tr>\n",
              "      <th>191</th>\n",
              "      <td>14.85</td>\n",
              "      <td>7</td>\n",
              "    </tr>\n",
              "    <tr>\n",
              "      <th>192</th>\n",
              "      <td>14.20</td>\n",
              "      <td>7</td>\n",
              "    </tr>\n",
              "    <tr>\n",
              "      <th>193</th>\n",
              "      <td>14.75</td>\n",
              "      <td>7</td>\n",
              "    </tr>\n",
              "    <tr>\n",
              "      <th>194</th>\n",
              "      <td>14.56</td>\n",
              "      <td>7</td>\n",
              "    </tr>\n",
              "    <tr>\n",
              "      <th>195</th>\n",
              "      <td>14.14</td>\n",
              "      <td>7</td>\n",
              "    </tr>\n",
              "    <tr>\n",
              "      <th>196</th>\n",
              "      <td>13.87</td>\n",
              "      <td>7</td>\n",
              "    </tr>\n",
              "    <tr>\n",
              "      <th>197</th>\n",
              "      <td>14.70</td>\n",
              "      <td>7</td>\n",
              "    </tr>\n",
              "    <tr>\n",
              "      <th>198</th>\n",
              "      <td>14.38</td>\n",
              "      <td>7</td>\n",
              "    </tr>\n",
              "    <tr>\n",
              "      <th>199</th>\n",
              "      <td>15.01</td>\n",
              "      <td>7</td>\n",
              "    </tr>\n",
              "    <tr>\n",
              "      <th>200</th>\n",
              "      <td>15.15</td>\n",
              "      <td>7</td>\n",
              "    </tr>\n",
              "    <tr>\n",
              "      <th>201</th>\n",
              "      <td>11.95</td>\n",
              "      <td>7</td>\n",
              "    </tr>\n",
              "    <tr>\n",
              "      <th>202</th>\n",
              "      <td>14.85</td>\n",
              "      <td>7</td>\n",
              "    </tr>\n",
              "    <tr>\n",
              "      <th>203</th>\n",
              "      <td>14.80</td>\n",
              "      <td>7</td>\n",
              "    </tr>\n",
              "    <tr>\n",
              "      <th>204</th>\n",
              "      <td>14.95</td>\n",
              "      <td>7</td>\n",
              "    </tr>\n",
              "    <tr>\n",
              "      <th>205</th>\n",
              "      <td>14.95</td>\n",
              "      <td>7</td>\n",
              "    </tr>\n",
              "    <tr>\n",
              "      <th>206</th>\n",
              "      <td>14.94</td>\n",
              "      <td>7</td>\n",
              "    </tr>\n",
              "    <tr>\n",
              "      <th>207</th>\n",
              "      <td>14.39</td>\n",
              "      <td>7</td>\n",
              "    </tr>\n",
              "    <tr>\n",
              "      <th>208</th>\n",
              "      <td>14.37</td>\n",
              "      <td>7</td>\n",
              "    </tr>\n",
              "    <tr>\n",
              "      <th>209</th>\n",
              "      <td>14.14</td>\n",
              "      <td>7</td>\n",
              "    </tr>\n",
              "    <tr>\n",
              "      <th>210</th>\n",
              "      <td>14.92</td>\n",
              "      <td>7</td>\n",
              "    </tr>\n",
              "    <tr>\n",
              "      <th>211</th>\n",
              "      <td>14.36</td>\n",
              "      <td>7</td>\n",
              "    </tr>\n",
              "    <tr>\n",
              "      <th>212</th>\n",
              "      <td>14.38</td>\n",
              "      <td>7</td>\n",
              "    </tr>\n",
              "    <tr>\n",
              "      <th>213</th>\n",
              "      <td>14.23</td>\n",
              "      <td>7</td>\n",
              "    </tr>\n",
              "  </tbody>\n",
              "</table>\n",
              "</div>\n",
              "      <button class=\"colab-df-convert\" onclick=\"convertToInteractive('df-5245715d-846c-404c-81d6-cadf431be038')\"\n",
              "              title=\"Convert this dataframe to an interactive table.\"\n",
              "              style=\"display:none;\">\n",
              "        \n",
              "  <svg xmlns=\"http://www.w3.org/2000/svg\" height=\"24px\"viewBox=\"0 0 24 24\"\n",
              "       width=\"24px\">\n",
              "    <path d=\"M0 0h24v24H0V0z\" fill=\"none\"/>\n",
              "    <path d=\"M18.56 5.44l.94 2.06.94-2.06 2.06-.94-2.06-.94-.94-2.06-.94 2.06-2.06.94zm-11 1L8.5 8.5l.94-2.06 2.06-.94-2.06-.94L8.5 2.5l-.94 2.06-2.06.94zm10 10l.94 2.06.94-2.06 2.06-.94-2.06-.94-.94-2.06-.94 2.06-2.06.94z\"/><path d=\"M17.41 7.96l-1.37-1.37c-.4-.4-.92-.59-1.43-.59-.52 0-1.04.2-1.43.59L10.3 9.45l-7.72 7.72c-.78.78-.78 2.05 0 2.83L4 21.41c.39.39.9.59 1.41.59.51 0 1.02-.2 1.41-.59l7.78-7.78 2.81-2.81c.8-.78.8-2.07 0-2.86zM5.41 20L4 18.59l7.72-7.72 1.47 1.35L5.41 20z\"/>\n",
              "  </svg>\n",
              "      </button>\n",
              "      \n",
              "  <style>\n",
              "    .colab-df-container {\n",
              "      display:flex;\n",
              "      flex-wrap:wrap;\n",
              "      gap: 12px;\n",
              "    }\n",
              "\n",
              "    .colab-df-convert {\n",
              "      background-color: #E8F0FE;\n",
              "      border: none;\n",
              "      border-radius: 50%;\n",
              "      cursor: pointer;\n",
              "      display: none;\n",
              "      fill: #1967D2;\n",
              "      height: 32px;\n",
              "      padding: 0 0 0 0;\n",
              "      width: 32px;\n",
              "    }\n",
              "\n",
              "    .colab-df-convert:hover {\n",
              "      background-color: #E2EBFA;\n",
              "      box-shadow: 0px 1px 2px rgba(60, 64, 67, 0.3), 0px 1px 3px 1px rgba(60, 64, 67, 0.15);\n",
              "      fill: #174EA6;\n",
              "    }\n",
              "\n",
              "    [theme=dark] .colab-df-convert {\n",
              "      background-color: #3B4455;\n",
              "      fill: #D2E3FC;\n",
              "    }\n",
              "\n",
              "    [theme=dark] .colab-df-convert:hover {\n",
              "      background-color: #434B5C;\n",
              "      box-shadow: 0px 1px 3px 1px rgba(0, 0, 0, 0.15);\n",
              "      filter: drop-shadow(0px 1px 2px rgba(0, 0, 0, 0.3));\n",
              "      fill: #FFFFFF;\n",
              "    }\n",
              "  </style>\n",
              "\n",
              "      <script>\n",
              "        const buttonEl =\n",
              "          document.querySelector('#df-5245715d-846c-404c-81d6-cadf431be038 button.colab-df-convert');\n",
              "        buttonEl.style.display =\n",
              "          google.colab.kernel.accessAllowed ? 'block' : 'none';\n",
              "\n",
              "        async function convertToInteractive(key) {\n",
              "          const element = document.querySelector('#df-5245715d-846c-404c-81d6-cadf431be038');\n",
              "          const dataTable =\n",
              "            await google.colab.kernel.invokeFunction('convertToInteractive',\n",
              "                                                     [key], {});\n",
              "          if (!dataTable) return;\n",
              "\n",
              "          const docLinkHtml = 'Like what you see? Visit the ' +\n",
              "            '<a target=\"_blank\" href=https://colab.research.google.com/notebooks/data_table.ipynb>data table notebook</a>'\n",
              "            + ' to learn more about interactive tables.';\n",
              "          element.innerHTML = '';\n",
              "          dataTable['output_type'] = 'display_data';\n",
              "          await google.colab.output.renderOutput(dataTable, element);\n",
              "          const docLink = document.createElement('div');\n",
              "          docLink.innerHTML = docLinkHtml;\n",
              "          element.appendChild(docLink);\n",
              "        }\n",
              "      </script>\n",
              "    </div>\n",
              "  </div>\n",
              "  "
            ],
            "text/plain": [
              "        Na  Type of glass\n",
              "185  13.69              7\n",
              "186  14.32              7\n",
              "187  13.44              7\n",
              "188  14.86              7\n",
              "189  15.79              7\n",
              "190  13.88              7\n",
              "191  14.85              7\n",
              "192  14.20              7\n",
              "193  14.75              7\n",
              "194  14.56              7\n",
              "195  14.14              7\n",
              "196  13.87              7\n",
              "197  14.70              7\n",
              "198  14.38              7\n",
              "199  15.01              7\n",
              "200  15.15              7\n",
              "201  11.95              7\n",
              "202  14.85              7\n",
              "203  14.80              7\n",
              "204  14.95              7\n",
              "205  14.95              7\n",
              "206  14.94              7\n",
              "207  14.39              7\n",
              "208  14.37              7\n",
              "209  14.14              7\n",
              "210  14.92              7\n",
              "211  14.36              7\n",
              "212  14.38              7\n",
              "213  14.23              7"
            ]
          },
          "metadata": {},
          "execution_count": 108
        }
      ]
    },
    {
      "cell_type": "markdown",
      "source": [
        "We noticed range of Na is also so small, hence not performing any outlier handling"
      ],
      "metadata": {
        "id": "o5D1pVRFXfTd"
      }
    },
    {
      "cell_type": "code",
      "source": [
        "#As standatd deviation values of all columns are very small , I am not performing any outlier handling for the data.\n",
        "#As the data has some outliers , I will perform Standardization for all the columns of the data to scale the data."
      ],
      "metadata": {
        "id": "eCpi9eP6XebT"
      },
      "execution_count": null,
      "outputs": []
    },
    {
      "cell_type": "code",
      "source": [
        "df[\"Type of glass\"].value_counts()"
      ],
      "metadata": {
        "colab": {
          "base_uri": "https://localhost:8080/"
        },
        "id": "JAL1dlifYve6",
        "outputId": "fd290b5e-45b8-40dc-ec81-9a6f12fdb18c"
      },
      "execution_count": null,
      "outputs": [
        {
          "output_type": "execute_result",
          "data": {
            "text/plain": [
              "2    76\n",
              "1    70\n",
              "7    29\n",
              "3    17\n",
              "5    13\n",
              "6     9\n",
              "Name: Type of glass, dtype: int64"
            ]
          },
          "metadata": {},
          "execution_count": 110
        }
      ]
    },
    {
      "cell_type": "code",
      "source": [
        "#As Id column is not helpful for any analysis , i will drop that column\n",
        "df.drop(\"Id\",axis=1,inplace=True) "
      ],
      "metadata": {
        "id": "Ko1p2uvDYSPy"
      },
      "execution_count": null,
      "outputs": []
    },
    {
      "cell_type": "code",
      "source": [
        "df"
      ],
      "metadata": {
        "colab": {
          "base_uri": "https://localhost:8080/",
          "height": 423
        },
        "id": "Nj2sOMHEZ0f6",
        "outputId": "9a3f3011-17a2-4c82-bc73-c065ac224560"
      },
      "execution_count": null,
      "outputs": [
        {
          "output_type": "execute_result",
          "data": {
            "text/html": [
              "\n",
              "  <div id=\"df-2ad3f531-5b00-49c5-a5c3-5c3824ff5386\">\n",
              "    <div class=\"colab-df-container\">\n",
              "      <div>\n",
              "<style scoped>\n",
              "    .dataframe tbody tr th:only-of-type {\n",
              "        vertical-align: middle;\n",
              "    }\n",
              "\n",
              "    .dataframe tbody tr th {\n",
              "        vertical-align: top;\n",
              "    }\n",
              "\n",
              "    .dataframe thead th {\n",
              "        text-align: right;\n",
              "    }\n",
              "</style>\n",
              "<table border=\"1\" class=\"dataframe\">\n",
              "  <thead>\n",
              "    <tr style=\"text-align: right;\">\n",
              "      <th></th>\n",
              "      <th>RI</th>\n",
              "      <th>Na</th>\n",
              "      <th>Mg</th>\n",
              "      <th>Al</th>\n",
              "      <th>Si</th>\n",
              "      <th>K</th>\n",
              "      <th>Ca</th>\n",
              "      <th>Ba</th>\n",
              "      <th>Fe</th>\n",
              "      <th>Type of glass</th>\n",
              "    </tr>\n",
              "  </thead>\n",
              "  <tbody>\n",
              "    <tr>\n",
              "      <th>0</th>\n",
              "      <td>1.52101</td>\n",
              "      <td>13.64</td>\n",
              "      <td>4.49</td>\n",
              "      <td>1.10</td>\n",
              "      <td>71.78</td>\n",
              "      <td>0.06</td>\n",
              "      <td>8.75</td>\n",
              "      <td>0.00</td>\n",
              "      <td>0.0</td>\n",
              "      <td>1</td>\n",
              "    </tr>\n",
              "    <tr>\n",
              "      <th>1</th>\n",
              "      <td>1.51761</td>\n",
              "      <td>13.89</td>\n",
              "      <td>3.60</td>\n",
              "      <td>1.36</td>\n",
              "      <td>72.73</td>\n",
              "      <td>0.48</td>\n",
              "      <td>7.83</td>\n",
              "      <td>0.00</td>\n",
              "      <td>0.0</td>\n",
              "      <td>1</td>\n",
              "    </tr>\n",
              "    <tr>\n",
              "      <th>2</th>\n",
              "      <td>1.51618</td>\n",
              "      <td>13.53</td>\n",
              "      <td>3.55</td>\n",
              "      <td>1.54</td>\n",
              "      <td>72.99</td>\n",
              "      <td>0.39</td>\n",
              "      <td>7.78</td>\n",
              "      <td>0.00</td>\n",
              "      <td>0.0</td>\n",
              "      <td>1</td>\n",
              "    </tr>\n",
              "    <tr>\n",
              "      <th>3</th>\n",
              "      <td>1.51766</td>\n",
              "      <td>13.21</td>\n",
              "      <td>3.69</td>\n",
              "      <td>1.29</td>\n",
              "      <td>72.61</td>\n",
              "      <td>0.57</td>\n",
              "      <td>8.22</td>\n",
              "      <td>0.00</td>\n",
              "      <td>0.0</td>\n",
              "      <td>1</td>\n",
              "    </tr>\n",
              "    <tr>\n",
              "      <th>4</th>\n",
              "      <td>1.51742</td>\n",
              "      <td>13.27</td>\n",
              "      <td>3.62</td>\n",
              "      <td>1.24</td>\n",
              "      <td>73.08</td>\n",
              "      <td>0.55</td>\n",
              "      <td>8.07</td>\n",
              "      <td>0.00</td>\n",
              "      <td>0.0</td>\n",
              "      <td>1</td>\n",
              "    </tr>\n",
              "    <tr>\n",
              "      <th>...</th>\n",
              "      <td>...</td>\n",
              "      <td>...</td>\n",
              "      <td>...</td>\n",
              "      <td>...</td>\n",
              "      <td>...</td>\n",
              "      <td>...</td>\n",
              "      <td>...</td>\n",
              "      <td>...</td>\n",
              "      <td>...</td>\n",
              "      <td>...</td>\n",
              "    </tr>\n",
              "    <tr>\n",
              "      <th>209</th>\n",
              "      <td>1.51623</td>\n",
              "      <td>14.14</td>\n",
              "      <td>0.00</td>\n",
              "      <td>2.88</td>\n",
              "      <td>72.61</td>\n",
              "      <td>0.08</td>\n",
              "      <td>9.18</td>\n",
              "      <td>1.06</td>\n",
              "      <td>0.0</td>\n",
              "      <td>7</td>\n",
              "    </tr>\n",
              "    <tr>\n",
              "      <th>210</th>\n",
              "      <td>1.51685</td>\n",
              "      <td>14.92</td>\n",
              "      <td>0.00</td>\n",
              "      <td>1.99</td>\n",
              "      <td>73.06</td>\n",
              "      <td>0.00</td>\n",
              "      <td>8.40</td>\n",
              "      <td>1.59</td>\n",
              "      <td>0.0</td>\n",
              "      <td>7</td>\n",
              "    </tr>\n",
              "    <tr>\n",
              "      <th>211</th>\n",
              "      <td>1.52065</td>\n",
              "      <td>14.36</td>\n",
              "      <td>0.00</td>\n",
              "      <td>2.02</td>\n",
              "      <td>73.42</td>\n",
              "      <td>0.00</td>\n",
              "      <td>8.44</td>\n",
              "      <td>1.64</td>\n",
              "      <td>0.0</td>\n",
              "      <td>7</td>\n",
              "    </tr>\n",
              "    <tr>\n",
              "      <th>212</th>\n",
              "      <td>1.51651</td>\n",
              "      <td>14.38</td>\n",
              "      <td>0.00</td>\n",
              "      <td>1.94</td>\n",
              "      <td>73.61</td>\n",
              "      <td>0.00</td>\n",
              "      <td>8.48</td>\n",
              "      <td>1.57</td>\n",
              "      <td>0.0</td>\n",
              "      <td>7</td>\n",
              "    </tr>\n",
              "    <tr>\n",
              "      <th>213</th>\n",
              "      <td>1.51711</td>\n",
              "      <td>14.23</td>\n",
              "      <td>0.00</td>\n",
              "      <td>2.08</td>\n",
              "      <td>73.36</td>\n",
              "      <td>0.00</td>\n",
              "      <td>8.62</td>\n",
              "      <td>1.67</td>\n",
              "      <td>0.0</td>\n",
              "      <td>7</td>\n",
              "    </tr>\n",
              "  </tbody>\n",
              "</table>\n",
              "<p>214 rows × 10 columns</p>\n",
              "</div>\n",
              "      <button class=\"colab-df-convert\" onclick=\"convertToInteractive('df-2ad3f531-5b00-49c5-a5c3-5c3824ff5386')\"\n",
              "              title=\"Convert this dataframe to an interactive table.\"\n",
              "              style=\"display:none;\">\n",
              "        \n",
              "  <svg xmlns=\"http://www.w3.org/2000/svg\" height=\"24px\"viewBox=\"0 0 24 24\"\n",
              "       width=\"24px\">\n",
              "    <path d=\"M0 0h24v24H0V0z\" fill=\"none\"/>\n",
              "    <path d=\"M18.56 5.44l.94 2.06.94-2.06 2.06-.94-2.06-.94-.94-2.06-.94 2.06-2.06.94zm-11 1L8.5 8.5l.94-2.06 2.06-.94-2.06-.94L8.5 2.5l-.94 2.06-2.06.94zm10 10l.94 2.06.94-2.06 2.06-.94-2.06-.94-.94-2.06-.94 2.06-2.06.94z\"/><path d=\"M17.41 7.96l-1.37-1.37c-.4-.4-.92-.59-1.43-.59-.52 0-1.04.2-1.43.59L10.3 9.45l-7.72 7.72c-.78.78-.78 2.05 0 2.83L4 21.41c.39.39.9.59 1.41.59.51 0 1.02-.2 1.41-.59l7.78-7.78 2.81-2.81c.8-.78.8-2.07 0-2.86zM5.41 20L4 18.59l7.72-7.72 1.47 1.35L5.41 20z\"/>\n",
              "  </svg>\n",
              "      </button>\n",
              "      \n",
              "  <style>\n",
              "    .colab-df-container {\n",
              "      display:flex;\n",
              "      flex-wrap:wrap;\n",
              "      gap: 12px;\n",
              "    }\n",
              "\n",
              "    .colab-df-convert {\n",
              "      background-color: #E8F0FE;\n",
              "      border: none;\n",
              "      border-radius: 50%;\n",
              "      cursor: pointer;\n",
              "      display: none;\n",
              "      fill: #1967D2;\n",
              "      height: 32px;\n",
              "      padding: 0 0 0 0;\n",
              "      width: 32px;\n",
              "    }\n",
              "\n",
              "    .colab-df-convert:hover {\n",
              "      background-color: #E2EBFA;\n",
              "      box-shadow: 0px 1px 2px rgba(60, 64, 67, 0.3), 0px 1px 3px 1px rgba(60, 64, 67, 0.15);\n",
              "      fill: #174EA6;\n",
              "    }\n",
              "\n",
              "    [theme=dark] .colab-df-convert {\n",
              "      background-color: #3B4455;\n",
              "      fill: #D2E3FC;\n",
              "    }\n",
              "\n",
              "    [theme=dark] .colab-df-convert:hover {\n",
              "      background-color: #434B5C;\n",
              "      box-shadow: 0px 1px 3px 1px rgba(0, 0, 0, 0.15);\n",
              "      filter: drop-shadow(0px 1px 2px rgba(0, 0, 0, 0.3));\n",
              "      fill: #FFFFFF;\n",
              "    }\n",
              "  </style>\n",
              "\n",
              "      <script>\n",
              "        const buttonEl =\n",
              "          document.querySelector('#df-2ad3f531-5b00-49c5-a5c3-5c3824ff5386 button.colab-df-convert');\n",
              "        buttonEl.style.display =\n",
              "          google.colab.kernel.accessAllowed ? 'block' : 'none';\n",
              "\n",
              "        async function convertToInteractive(key) {\n",
              "          const element = document.querySelector('#df-2ad3f531-5b00-49c5-a5c3-5c3824ff5386');\n",
              "          const dataTable =\n",
              "            await google.colab.kernel.invokeFunction('convertToInteractive',\n",
              "                                                     [key], {});\n",
              "          if (!dataTable) return;\n",
              "\n",
              "          const docLinkHtml = 'Like what you see? Visit the ' +\n",
              "            '<a target=\"_blank\" href=https://colab.research.google.com/notebooks/data_table.ipynb>data table notebook</a>'\n",
              "            + ' to learn more about interactive tables.';\n",
              "          element.innerHTML = '';\n",
              "          dataTable['output_type'] = 'display_data';\n",
              "          await google.colab.output.renderOutput(dataTable, element);\n",
              "          const docLink = document.createElement('div');\n",
              "          docLink.innerHTML = docLinkHtml;\n",
              "          element.appendChild(docLink);\n",
              "        }\n",
              "      </script>\n",
              "    </div>\n",
              "  </div>\n",
              "  "
            ],
            "text/plain": [
              "          RI     Na    Mg    Al     Si     K    Ca    Ba   Fe  Type of glass\n",
              "0    1.52101  13.64  4.49  1.10  71.78  0.06  8.75  0.00  0.0              1\n",
              "1    1.51761  13.89  3.60  1.36  72.73  0.48  7.83  0.00  0.0              1\n",
              "2    1.51618  13.53  3.55  1.54  72.99  0.39  7.78  0.00  0.0              1\n",
              "3    1.51766  13.21  3.69  1.29  72.61  0.57  8.22  0.00  0.0              1\n",
              "4    1.51742  13.27  3.62  1.24  73.08  0.55  8.07  0.00  0.0              1\n",
              "..       ...    ...   ...   ...    ...   ...   ...   ...  ...            ...\n",
              "209  1.51623  14.14  0.00  2.88  72.61  0.08  9.18  1.06  0.0              7\n",
              "210  1.51685  14.92  0.00  1.99  73.06  0.00  8.40  1.59  0.0              7\n",
              "211  1.52065  14.36  0.00  2.02  73.42  0.00  8.44  1.64  0.0              7\n",
              "212  1.51651  14.38  0.00  1.94  73.61  0.00  8.48  1.57  0.0              7\n",
              "213  1.51711  14.23  0.00  2.08  73.36  0.00  8.62  1.67  0.0              7\n",
              "\n",
              "[214 rows x 10 columns]"
            ]
          },
          "metadata": {},
          "execution_count": 112
        }
      ]
    },
    {
      "cell_type": "code",
      "source": [
        "sns.heatmap(df.corr(),annot=True,linewidths=0.5,cmap=\"RdYlGn\")"
      ],
      "metadata": {
        "colab": {
          "base_uri": "https://localhost:8080/",
          "height": 343
        },
        "id": "ZA04ETtxczGZ",
        "outputId": "473ad6e0-03f3-433c-9bfa-e1b93ca23828"
      },
      "execution_count": null,
      "outputs": [
        {
          "output_type": "execute_result",
          "data": {
            "text/plain": [
              "<matplotlib.axes._subplots.AxesSubplot at 0x7fdf443eed50>"
            ]
          },
          "metadata": {},
          "execution_count": 113
        },
        {
          "output_type": "display_data",
          "data": {
            "image/png": "[encoded data removed]",
            "text/plain": [
              "<Figure size 1440x360 with 2 Axes>"
            ]
          },
          "metadata": {}
        }
      ]
    },
    {
      "cell_type": "markdown",
      "source": [
        "from heatmap we can notice that the columns [\"RI\",\"Si\",\"K\",\"Ca\",\"Fe\"] have very less impact on the Type of glass column."
      ],
      "metadata": {
        "id": "xEydTaahfmas"
      }
    },
    {
      "cell_type": "code",
      "source": [
        "#Splitting the dependent and independent variables\n",
        "\n",
        "X=df.iloc[:,:-1]\n",
        "Y=df[\"Type of glass\"]\n",
        "print(\"Shape of X is \",X.shape)\n",
        "print(\"Shape of Y is \",Y.shape)"
      ],
      "metadata": {
        "colab": {
          "base_uri": "https://localhost:8080/"
        },
        "id": "QAX_PcPDZ4mT",
        "outputId": "7349db87-d4ae-4395-81a9-6a64f6b1b289"
      },
      "execution_count": null,
      "outputs": [
        {
          "output_type": "stream",
          "name": "stdout",
          "text": [
            "Shape of X is  (214, 9)\n",
            "Shape of Y is  (214,)\n"
          ]
        }
      ]
    },
    {
      "cell_type": "code",
      "source": [
        "X"
      ],
      "metadata": {
        "colab": {
          "base_uri": "https://localhost:8080/",
          "height": 423
        },
        "id": "9kVGuX31aD6z",
        "outputId": "5d056bd3-d09f-418a-97f1-35f4d7bce864"
      },
      "execution_count": null,
      "outputs": [
        {
          "output_type": "execute_result",
          "data": {
            "text/html": [
              "\n",
              "  <div id=\"df-b90c58d9-5f4b-47e7-b341-59dac661929a\">\n",
              "    <div class=\"colab-df-container\">\n",
              "      <div>\n",
              "<style scoped>\n",
              "    .dataframe tbody tr th:only-of-type {\n",
              "        vertical-align: middle;\n",
              "    }\n",
              "\n",
              "    .dataframe tbody tr th {\n",
              "        vertical-align: top;\n",
              "    }\n",
              "\n",
              "    .dataframe thead th {\n",
              "        text-align: right;\n",
              "    }\n",
              "</style>\n",
              "<table border=\"1\" class=\"dataframe\">\n",
              "  <thead>\n",
              "    <tr style=\"text-align: right;\">\n",
              "      <th></th>\n",
              "      <th>RI</th>\n",
              "      <th>Na</th>\n",
              "      <th>Mg</th>\n",
              "      <th>Al</th>\n",
              "      <th>Si</th>\n",
              "      <th>K</th>\n",
              "      <th>Ca</th>\n",
              "      <th>Ba</th>\n",
              "      <th>Fe</th>\n",
              "    </tr>\n",
              "  </thead>\n",
              "  <tbody>\n",
              "    <tr>\n",
              "      <th>0</th>\n",
              "      <td>1.52101</td>\n",
              "      <td>13.64</td>\n",
              "      <td>4.49</td>\n",
              "      <td>1.10</td>\n",
              "      <td>71.78</td>\n",
              "      <td>0.06</td>\n",
              "      <td>8.75</td>\n",
              "      <td>0.00</td>\n",
              "      <td>0.0</td>\n",
              "    </tr>\n",
              "    <tr>\n",
              "      <th>1</th>\n",
              "      <td>1.51761</td>\n",
              "      <td>13.89</td>\n",
              "      <td>3.60</td>\n",
              "      <td>1.36</td>\n",
              "      <td>72.73</td>\n",
              "      <td>0.48</td>\n",
              "      <td>7.83</td>\n",
              "      <td>0.00</td>\n",
              "      <td>0.0</td>\n",
              "    </tr>\n",
              "    <tr>\n",
              "      <th>2</th>\n",
              "      <td>1.51618</td>\n",
              "      <td>13.53</td>\n",
              "      <td>3.55</td>\n",
              "      <td>1.54</td>\n",
              "      <td>72.99</td>\n",
              "      <td>0.39</td>\n",
              "      <td>7.78</td>\n",
              "      <td>0.00</td>\n",
              "      <td>0.0</td>\n",
              "    </tr>\n",
              "    <tr>\n",
              "      <th>3</th>\n",
              "      <td>1.51766</td>\n",
              "      <td>13.21</td>\n",
              "      <td>3.69</td>\n",
              "      <td>1.29</td>\n",
              "      <td>72.61</td>\n",
              "      <td>0.57</td>\n",
              "      <td>8.22</td>\n",
              "      <td>0.00</td>\n",
              "      <td>0.0</td>\n",
              "    </tr>\n",
              "    <tr>\n",
              "      <th>4</th>\n",
              "      <td>1.51742</td>\n",
              "      <td>13.27</td>\n",
              "      <td>3.62</td>\n",
              "      <td>1.24</td>\n",
              "      <td>73.08</td>\n",
              "      <td>0.55</td>\n",
              "      <td>8.07</td>\n",
              "      <td>0.00</td>\n",
              "      <td>0.0</td>\n",
              "    </tr>\n",
              "    <tr>\n",
              "      <th>...</th>\n",
              "      <td>...</td>\n",
              "      <td>...</td>\n",
              "      <td>...</td>\n",
              "      <td>...</td>\n",
              "      <td>...</td>\n",
              "      <td>...</td>\n",
              "      <td>...</td>\n",
              "      <td>...</td>\n",
              "      <td>...</td>\n",
              "    </tr>\n",
              "    <tr>\n",
              "      <th>209</th>\n",
              "      <td>1.51623</td>\n",
              "      <td>14.14</td>\n",
              "      <td>0.00</td>\n",
              "      <td>2.88</td>\n",
              "      <td>72.61</td>\n",
              "      <td>0.08</td>\n",
              "      <td>9.18</td>\n",
              "      <td>1.06</td>\n",
              "      <td>0.0</td>\n",
              "    </tr>\n",
              "    <tr>\n",
              "      <th>210</th>\n",
              "      <td>1.51685</td>\n",
              "      <td>14.92</td>\n",
              "      <td>0.00</td>\n",
              "      <td>1.99</td>\n",
              "      <td>73.06</td>\n",
              "      <td>0.00</td>\n",
              "      <td>8.40</td>\n",
              "      <td>1.59</td>\n",
              "      <td>0.0</td>\n",
              "    </tr>\n",
              "    <tr>\n",
              "      <th>211</th>\n",
              "      <td>1.52065</td>\n",
              "      <td>14.36</td>\n",
              "      <td>0.00</td>\n",
              "      <td>2.02</td>\n",
              "      <td>73.42</td>\n",
              "      <td>0.00</td>\n",
              "      <td>8.44</td>\n",
              "      <td>1.64</td>\n",
              "      <td>0.0</td>\n",
              "    </tr>\n",
              "    <tr>\n",
              "      <th>212</th>\n",
              "      <td>1.51651</td>\n",
              "      <td>14.38</td>\n",
              "      <td>0.00</td>\n",
              "      <td>1.94</td>\n",
              "      <td>73.61</td>\n",
              "      <td>0.00</td>\n",
              "      <td>8.48</td>\n",
              "      <td>1.57</td>\n",
              "      <td>0.0</td>\n",
              "    </tr>\n",
              "    <tr>\n",
              "      <th>213</th>\n",
              "      <td>1.51711</td>\n",
              "      <td>14.23</td>\n",
              "      <td>0.00</td>\n",
              "      <td>2.08</td>\n",
              "      <td>73.36</td>\n",
              "      <td>0.00</td>\n",
              "      <td>8.62</td>\n",
              "      <td>1.67</td>\n",
              "      <td>0.0</td>\n",
              "    </tr>\n",
              "  </tbody>\n",
              "</table>\n",
              "<p>214 rows × 9 columns</p>\n",
              "</div>\n",
              "      <button class=\"colab-df-convert\" onclick=\"convertToInteractive('df-b90c58d9-5f4b-47e7-b341-59dac661929a')\"\n",
              "              title=\"Convert this dataframe to an interactive table.\"\n",
              "              style=\"display:none;\">\n",
              "        \n",
              "  <svg xmlns=\"http://www.w3.org/2000/svg\" height=\"24px\"viewBox=\"0 0 24 24\"\n",
              "       width=\"24px\">\n",
              "    <path d=\"M0 0h24v24H0V0z\" fill=\"none\"/>\n",
              "    <path d=\"M18.56 5.44l.94 2.06.94-2.06 2.06-.94-2.06-.94-.94-2.06-.94 2.06-2.06.94zm-11 1L8.5 8.5l.94-2.06 2.06-.94-2.06-.94L8.5 2.5l-.94 2.06-2.06.94zm10 10l.94 2.06.94-2.06 2.06-.94-2.06-.94-.94-2.06-.94 2.06-2.06.94z\"/><path d=\"M17.41 7.96l-1.37-1.37c-.4-.4-.92-.59-1.43-.59-.52 0-1.04.2-1.43.59L10.3 9.45l-7.72 7.72c-.78.78-.78 2.05 0 2.83L4 21.41c.39.39.9.59 1.41.59.51 0 1.02-.2 1.41-.59l7.78-7.78 2.81-2.81c.8-.78.8-2.07 0-2.86zM5.41 20L4 18.59l7.72-7.72 1.47 1.35L5.41 20z\"/>\n",
              "  </svg>\n",
              "      </button>\n",
              "      \n",
              "  <style>\n",
              "    .colab-df-container {\n",
              "      display:flex;\n",
              "      flex-wrap:wrap;\n",
              "      gap: 12px;\n",
              "    }\n",
              "\n",
              "    .colab-df-convert {\n",
              "      background-color: #E8F0FE;\n",
              "      border: none;\n",
              "      border-radius: 50%;\n",
              "      cursor: pointer;\n",
              "      display: none;\n",
              "      fill: #1967D2;\n",
              "      height: 32px;\n",
              "      padding: 0 0 0 0;\n",
              "      width: 32px;\n",
              "    }\n",
              "\n",
              "    .colab-df-convert:hover {\n",
              "      background-color: #E2EBFA;\n",
              "      box-shadow: 0px 1px 2px rgba(60, 64, 67, 0.3), 0px 1px 3px 1px rgba(60, 64, 67, 0.15);\n",
              "      fill: #174EA6;\n",
              "    }\n",
              "\n",
              "    [theme=dark] .colab-df-convert {\n",
              "      background-color: #3B4455;\n",
              "      fill: #D2E3FC;\n",
              "    }\n",
              "\n",
              "    [theme=dark] .colab-df-convert:hover {\n",
              "      background-color: #434B5C;\n",
              "      box-shadow: 0px 1px 3px 1px rgba(0, 0, 0, 0.15);\n",
              "      filter: drop-shadow(0px 1px 2px rgba(0, 0, 0, 0.3));\n",
              "      fill: #FFFFFF;\n",
              "    }\n",
              "  </style>\n",
              "\n",
              "      <script>\n",
              "        const buttonEl =\n",
              "          document.querySelector('#df-b90c58d9-5f4b-47e7-b341-59dac661929a button.colab-df-convert');\n",
              "        buttonEl.style.display =\n",
              "          google.colab.kernel.accessAllowed ? 'block' : 'none';\n",
              "\n",
              "        async function convertToInteractive(key) {\n",
              "          const element = document.querySelector('#df-b90c58d9-5f4b-47e7-b341-59dac661929a');\n",
              "          const dataTable =\n",
              "            await google.colab.kernel.invokeFunction('convertToInteractive',\n",
              "                                                     [key], {});\n",
              "          if (!dataTable) return;\n",
              "\n",
              "          const docLinkHtml = 'Like what you see? Visit the ' +\n",
              "            '<a target=\"_blank\" href=https://colab.research.google.com/notebooks/data_table.ipynb>data table notebook</a>'\n",
              "            + ' to learn more about interactive tables.';\n",
              "          element.innerHTML = '';\n",
              "          dataTable['output_type'] = 'display_data';\n",
              "          await google.colab.output.renderOutput(dataTable, element);\n",
              "          const docLink = document.createElement('div');\n",
              "          docLink.innerHTML = docLinkHtml;\n",
              "          element.appendChild(docLink);\n",
              "        }\n",
              "      </script>\n",
              "    </div>\n",
              "  </div>\n",
              "  "
            ],
            "text/plain": [
              "          RI     Na    Mg    Al     Si     K    Ca    Ba   Fe\n",
              "0    1.52101  13.64  4.49  1.10  71.78  0.06  8.75  0.00  0.0\n",
              "1    1.51761  13.89  3.60  1.36  72.73  0.48  7.83  0.00  0.0\n",
              "2    1.51618  13.53  3.55  1.54  72.99  0.39  7.78  0.00  0.0\n",
              "3    1.51766  13.21  3.69  1.29  72.61  0.57  8.22  0.00  0.0\n",
              "4    1.51742  13.27  3.62  1.24  73.08  0.55  8.07  0.00  0.0\n",
              "..       ...    ...   ...   ...    ...   ...   ...   ...  ...\n",
              "209  1.51623  14.14  0.00  2.88  72.61  0.08  9.18  1.06  0.0\n",
              "210  1.51685  14.92  0.00  1.99  73.06  0.00  8.40  1.59  0.0\n",
              "211  1.52065  14.36  0.00  2.02  73.42  0.00  8.44  1.64  0.0\n",
              "212  1.51651  14.38  0.00  1.94  73.61  0.00  8.48  1.57  0.0\n",
              "213  1.51711  14.23  0.00  2.08  73.36  0.00  8.62  1.67  0.0\n",
              "\n",
              "[214 rows x 9 columns]"
            ]
          },
          "metadata": {},
          "execution_count": 115
        }
      ]
    },
    {
      "cell_type": "code",
      "source": [
        "Y"
      ],
      "metadata": {
        "colab": {
          "base_uri": "https://localhost:8080/"
        },
        "id": "XnNN0I4baOhz",
        "outputId": "33988907-28e9-41b5-fd6f-825f52240b83"
      },
      "execution_count": null,
      "outputs": [
        {
          "output_type": "execute_result",
          "data": {
            "text/plain": [
              "0      1\n",
              "1      1\n",
              "2      1\n",
              "3      1\n",
              "4      1\n",
              "      ..\n",
              "209    7\n",
              "210    7\n",
              "211    7\n",
              "212    7\n",
              "213    7\n",
              "Name: Type of glass, Length: 214, dtype: int64"
            ]
          },
          "metadata": {},
          "execution_count": 116
        }
      ]
    },
    {
      "cell_type": "code",
      "source": [
        "#from https://scikit-learn.org/stable/modules/generated/sklearn.model_selection.train_test_split.html\n",
        "from sklearn.model_selection import train_test_split\n",
        "\n",
        "X_train, X_test, Y_train, Y_test = train_test_split(X, Y, test_size=0.2, random_state=0,stratify=Y)\n",
        "print('Shape of X_train is ', X_train.shape)\n",
        "print('Shape of X_test is ', X_test.shape)\n",
        "print('Shape of Y_train is ', Y_train.shape)\n",
        "print('Shape of Y_test is ', Y_test.shape)"
      ],
      "metadata": {
        "colab": {
          "base_uri": "https://localhost:8080/"
        },
        "id": "aDERv7BpZ0eG",
        "outputId": "872d1a43-c22d-4d3e-fa92-bd814085d9ec"
      },
      "execution_count": null,
      "outputs": [
        {
          "output_type": "stream",
          "name": "stdout",
          "text": [
            "Shape of X_train is  (171, 9)\n",
            "Shape of X_test is  (43, 9)\n",
            "Shape of Y_train is  (171,)\n",
            "Shape of Y_test is  (43,)\n"
          ]
        }
      ]
    },
    {
      "cell_type": "markdown",
      "source": [
        "# Standardization\n",
        "Data Standardization is the process of rescaling one or more attributes so that they have a mean value of 0 and a standard deviation of 1."
      ],
      "metadata": {
        "id": "0mahwWr-bek3"
      }
    },
    {
      "cell_type": "code",
      "source": [
        "#from https://scikit-learn.org/stable/modules/generated/sklearn.preprocessing.StandardScaler.html\n",
        "from sklearn.preprocessing import StandardScaler\n",
        "\n",
        "sc=StandardScaler()\n",
        "X_train = sc.fit_transform(X_train)\n",
        "X_test = sc.transform(X_test)"
      ],
      "metadata": {
        "id": "ij6HKr2Cbjtl"
      },
      "execution_count": null,
      "outputs": []
    },
    {
      "cell_type": "code",
      "source": [
        "X_train"
      ],
      "metadata": {
        "colab": {
          "base_uri": "https://localhost:8080/"
        },
        "id": "dckA7fHFcUU3",
        "outputId": "7085bb12-2530-4fd9-fba1-a2f244e1013a"
      },
      "execution_count": null,
      "outputs": [
        {
          "output_type": "execute_result",
          "data": {
            "text/plain": [
              "array([[-2.39987759,  5.0116347 , -1.84488978, ..., -1.74543963,\n",
              "        -0.32664601, -0.59404488],\n",
              "       [ 0.04688626,  0.91317326, -0.33219569, ...,  0.22800243,\n",
              "        -0.32664601, -0.59404488],\n",
              "       [-0.14898764, -0.70627959,  0.57265786, ..., -0.17851185,\n",
              "        -0.32664601, -0.59404488],\n",
              "       ...,\n",
              "       [-0.23198506, -0.99279818,  0.58647242, ..., -0.34850874,\n",
              "        -0.32664601, -0.59404488],\n",
              "       [-0.04607085, -0.60662096,  0.5588433 , ..., -0.42981159,\n",
              "        -0.32664601, -0.59404488],\n",
              "       [-0.80300729, -0.70627959,  0.64863793, ..., -0.69589367,\n",
              "        -0.32664601,  2.0523715 ]])"
            ]
          },
          "metadata": {},
          "execution_count": 119
        }
      ]
    },
    {
      "cell_type": "code",
      "source": [
        "X_test"
      ],
      "metadata": {
        "colab": {
          "base_uri": "https://localhost:8080/"
        },
        "id": "av96XeTAbDKc",
        "outputId": "99a58376-5498-460a-8255-6f3ac22c1727"
      },
      "execution_count": null,
      "outputs": [
        {
          "output_type": "execute_result",
          "data": {
            "text/plain": [
              "array([[-1.95116734e-02, -3.35837951e-02,  4.62141395e-01,\n",
              "         2.30555024e-01, -7.24861510e-01,  9.44805276e-02,\n",
              "        -1.59061410e-02, -3.26646006e-01, -5.94044883e-01],\n",
              "       [ 4.25354480e-01,  1.76027167e+00,  7.45339833e-01,\n",
              "        -2.34152934e+00, -8.80546649e-01, -6.64630307e-01,\n",
              "        -8.51497219e-03, -3.26646006e-01, -5.94044883e-01],\n",
              "       [-4.90937000e-01, -3.35837951e-02,  6.00286975e-01,\n",
              "         3.74591748e-01, -2.05911046e-01,  2.66354679e-01,\n",
              "        -6.66328992e-01, -3.26646006e-01, -5.94044883e-01],\n",
              "       [ 7.63983941e-01,  2.40477457e-01, -4.01268475e-01,\n",
              "         4.98051797e-01, -6.72966463e-01,  5.15119898e-02,\n",
              "         4.12781647e-01,  2.36297111e-01,  1.13630429e+00],\n",
              "       [-5.57334934e-01, -1.45699762e-01,  6.21008812e-01,\n",
              "        -9.86717742e-02,  1.66913892e-03,  9.44805276e-02,\n",
              "        -4.22420423e-01, -3.26646006e-01,  4.23807572e-01],\n",
              "       [ 1.24536896e+00,  1.06266121e+00,  7.93690786e-01,\n",
              "        -1.97114919e+00, -1.20489069e+00, -5.50047540e-01,\n",
              "         4.12781647e-01, -3.26646006e-01, -5.94044883e-01],\n",
              "       [-2.75143717e-01, -4.44675673e-01,  6.41730648e-01,\n",
              "        -1.39825124e-01,  3.77908225e-01,  1.08803374e-01,\n",
              "        -4.51985098e-01, -3.26646006e-01,  5.25592817e-01],\n",
              "       [ 2.59359647e-01,  9.87917234e-01, -1.84488978e+00,\n",
              "         1.36227214e+00,  5.35641852e-02, -7.07598845e-01,\n",
              "         1.38102475e+00, -3.26646006e-01, -5.94044883e-01],\n",
              "       [-1.42382796e+00,  1.11249053e+00,  2.89459421e-01,\n",
              "         1.34169547e+00, -5.43228848e-01,  8.67914208e-01,\n",
              "        -1.42761937e+00, -3.26646006e-01, -5.94044883e-01],\n",
              "       [-4.34498757e-01,  1.53276149e-01,  5.58843301e-01,\n",
              "         5.80358496e-01, -2.31858570e-01,  1.80417603e-01,\n",
              "        -7.55023017e-01, -3.26646006e-01, -5.94044883e-01],\n",
              "       [ 1.10925319e+00,  1.53276149e-01,  7.38432554e-01,\n",
              "        -1.08635217e+00, -8.93520410e-01, -4.49787618e-01,\n",
              "         4.42346322e-01, -3.26646006e-01,  1.18451835e-01],\n",
              "       [ 9.33298671e-01, -4.82047662e-01, -1.61694957e+00,\n",
              "         1.68824999e-01,  8.96858688e-01, -5.21401848e-01,\n",
              "         1.66928034e+00, -3.26646006e-01,  2.25594199e+00],\n",
              "       [-7.83087907e-01,  1.85993031e+00, -1.84488978e+00,\n",
              "         1.95899571e+00,  7.54147311e-01, -7.07598845e-01,\n",
              "        -1.85903022e-01,  1.00773768e+00,  3.22022326e-01],\n",
              "       [ 4.35314170e-01, -8.93139539e-01, -1.84488978e+00,\n",
              "         4.56898447e-01,  1.36391411e+00, -1.63330699e-01,\n",
              "         1.86145072e+00, -3.26646006e-01, -5.94044883e-01],\n",
              "       [-6.86810904e-01, -2.11264654e-02,  6.21008812e-01,\n",
              "         2.92285048e-01,  2.22223086e-01,  1.66094757e-01,\n",
              "        -8.28934704e-01, -3.26646006e-01, -5.94044883e-01],\n",
              "       [-8.26246564e-01, -5.94163628e-01,  5.24306906e-01,\n",
              "        -5.75184245e-02,  7.54147311e-01,  2.80677525e-01,\n",
              "        -7.10676004e-01, -3.26646006e-01,  1.84880101e+00],\n",
              "       [-6.46972144e-01, -1.49109136e+00,  5.86472417e-01,\n",
              "        -1.60401799e-01,  2.48170609e-01,  1.08803374e-01,\n",
              "        -3.55899904e-01, -3.26646006e-01, -5.94044883e-01],\n",
              "       [-3.91340100e-01,  2.87028531e-02,  5.72657859e-01,\n",
              "        -5.71935296e-01,  1.96275563e-01,  8.54345196e-03,\n",
              "        -4.29811591e-01, -3.26646006e-01, -5.94044883e-01],\n",
              "       [-2.55224337e-01,  6.64026664e-01,  6.41730648e-01,\n",
              "        -1.39825124e-01,  4.05904237e-02, -2.01022399e-02,\n",
              "        -8.73281717e-01, -3.26646006e-01, -5.94044883e-01],\n",
              "       [-1.07523881e+00,  8.13514619e-01,  6.26098386e-03,\n",
              "         4.26358330e+00, -3.64395787e+00,  1.69863927e+00,\n",
              "        -2.32195079e+00,  4.26029791e+00, -5.94044883e-01],\n",
              "       [ 2.75260205e+00,  7.88599960e-01,  7.10803438e-01,\n",
              "        -1.47730899e+00, -1.46436592e+00, -6.78953153e-01,\n",
              "         5.97560866e-01, -3.26646006e-01,  4.23807572e-01],\n",
              "       [ 1.74999325e+00,  3.03091929e+00, -5.80857728e-01,\n",
              "        -2.42708498e-01, -2.94337474e+00, -2.63590621e-01,\n",
              "        -2.96770554e-01,  3.17611117e+00, -5.94044883e-01],\n",
              "       [ 4.61873344e-01,  5.64368027e-01,  6.27916091e-01,\n",
              "        -2.22131823e-01, -1.26975950e+00, -5.35724694e-01,\n",
              "        -2.52423541e-01,  1.11198640e+00, -5.94044883e-01],\n",
              "       [-5.44055347e-01, -7.06279595e-01,  5.86472417e-01,\n",
              "         2.30555024e-01,  8.57937403e-01,  2.37708987e-01,\n",
              "        -8.21543536e-01, -3.26646006e-01, -5.94044883e-01],\n",
              "       [ 4.07706608e-04,  1.19969184e+00,  4.06883164e-01,\n",
              "         1.62976891e+00, -1.87952629e+00,  1.38353666e+00,\n",
              "        -2.38108014e+00,  3.07186244e+00, -5.94044883e-01],\n",
              "       [-5.00896690e-01, -1.58157091e-01,  6.00286975e-01,\n",
              "         1.07094974e-01,  1.83301801e-01,  9.44805276e-02,\n",
              "        -6.73720160e-01, -3.26646006e-01, -5.94044883e-01],\n",
              "       [ 3.11779068e+00, -8.93139539e-01, -1.84488978e+00,\n",
              "        -1.55961569e+00, -8.80546649e-01, -6.21661769e-01,\n",
              "         3.98271616e+00, -3.26646006e-01, -5.94044883e-01],\n",
              "       [-2.34675924e+00,  4.14880071e-01,  3.65439490e-01,\n",
              "         7.86125245e-01,  1.44380516e-01,  1.81322204e+00,\n",
              "        -2.64716222e+00,  2.15447366e+00, -5.94044883e-01],\n",
              "       [-8.76045014e-01,  1.87238764e+00,  6.90081601e-01,\n",
              "         6.42088521e-01, -1.07515307e+00, -4.78433310e-01,\n",
              "        -1.22066665e+00, -3.26646006e-01,  6.27378063e-01],\n",
              "       [-2.78463614e-01,  1.53276149e-01,  7.38432554e-01,\n",
              "        -5.30781946e-01,  3.77908225e-01,  1.37449065e-01,\n",
              "        -7.25458342e-01, -3.26646006e-01, -5.94044883e-01],\n",
              "       [ 1.66402540e-01,  2.03433292e+00, -1.30612202e+00,\n",
              "         6.42088521e-01, -2.57806093e-01, -7.07598845e-01,\n",
              "         6.93646060e-01, -3.26646006e-01, -5.94044883e-01],\n",
              "       [-4.31178860e-01,  4.52252060e-01,  6.96988880e-01,\n",
              "         7.86125245e-01, -8.28651602e-01,  2.09063295e-01,\n",
              "        -8.36325873e-01, -3.26646006e-01, -5.94044883e-01],\n",
              "       [-3.94659997e-01,  1.73535701e+00, -1.84488978e+00,\n",
              "         1.17708207e+00,  4.16829510e-01, -7.07598845e-01,\n",
              "        -3.55899904e-01,  2.98846346e+00,  2.20237081e-01],\n",
              "       [-7.06730284e-01,  3.78819380e-03,  6.27916091e-01,\n",
              "         1.27671649e-01,  2.76166621e-02, -6.30707777e-02,\n",
              "        -5.92417304e-01, -3.26646006e-01, -5.94044883e-01],\n",
              "       [-3.14982477e-01, -7.09557839e-02,  6.41730648e-01,\n",
              "        -5.92511971e-01,  5.07645841e-01,  1.23126219e-01,\n",
              "        -6.21981979e-01, -3.26646006e-01, -5.94044883e-01],\n",
              "       [-7.33289457e-01,  1.98450360e+00, -1.84488978e+00,\n",
              "         1.73265229e+00,  7.80094834e-01, -7.07598845e-01,\n",
              "        -2.22858866e-01,  1.07028691e+00, -5.94044883e-01],\n",
              "       [-6.37012454e-01,  6.60748419e-02,  6.07194254e-01,\n",
              "        -3.66168548e-01,  1.44380516e-01,  2.66354679e-01,\n",
              "        -6.73720160e-01, -3.26646006e-01, -5.94044883e-01],\n",
              "       [ 2.11518189e+00, -2.37556176e+00, -1.84488978e+00,\n",
              "         9.30161969e-01, -6.59992702e-01,  4.52551676e-01,\n",
              "         3.12534058e+00, -3.26646006e-01,  2.86665346e+00],\n",
              "       [-6.40332351e-01,  1.03446831e-01,  6.48637927e-01,\n",
              "         2.30555024e-01, -4.00517470e-01,  2.37708987e-01,\n",
              "        -7.25458342e-01, -3.26646006e-01, -5.94044883e-01],\n",
              "       [ 1.03673966e-02, -5.31876980e-01,  7.38432554e-01,\n",
              "        -6.54241996e-01, -5.43228848e-01,  2.09063295e-01,\n",
              "        -3.80796472e-02, -3.26646006e-01,  1.64523052e+00],\n",
              "       [-2.88423304e-01, -6.81364936e-01,  6.21008812e-01,\n",
              "        -1.60401799e-01,  4.16829510e-01,  1.80417603e-01,\n",
              "        -3.11552891e-01, -3.26646006e-01, -5.94044883e-01],\n",
              "       [-1.72226920e-01, -7.81023572e-01,  5.24306906e-01,\n",
              "        -4.89628597e-01,  3.26013178e-01,  1.80417603e-01,\n",
              "        -1.85903022e-01, -3.26646006e-01,  2.45951248e+00],\n",
              "       [ 2.36120370e-01,  6.64026664e-01,  5.93379696e-01,\n",
              "        -2.22131823e-01, -1.15299564e+00,  2.28662979e-02,\n",
              "        -1.71120685e-01, -9.72988104e-02, -5.94044883e-01]])"
            ]
          },
          "metadata": {},
          "execution_count": 120
        }
      ]
    },
    {
      "cell_type": "code",
      "source": [
        "# from https://www.kdnuggets.com/2020/11/most-popular-distance-metrics-knn.html\n"
      ],
      "metadata": {
        "id": "YHL4ZHIucewX"
      },
      "execution_count": null,
      "outputs": []
    },
    {
      "cell_type": "markdown",
      "source": [
        "Distance Metrics\n",
        " \n",
        "For the algorithm to work best on a particular dataset we need to choose the most appropriate distance metric accordingly. There are a lot of different distance metrics available, but we are only going to talk about a few widely used ones. Euclidean distance function is the most popular one among all of them as it is set default in the SKlearn KNN classifier library in python.\n",
        "\n",
        "So here are some of the distances used:\n",
        "\n",
        " \n",
        "Minkowski Distance – It is a metric intended for real-valued vector spaces. We can calculate Minkowski distance only in a normed vector space, which means in a space where distances can be represented as a vector that has a length and the lengths cannot be negative.\n",
        "\n",
        "There are a few conditions that the distance metric must satisfy:\n",
        "\n",
        "Non-negativity: d(x, y) >= 0\n",
        "\n",
        "Identity: d(x, y) = 0 if and only if x == y\n",
        "\n",
        "Symmetry: d(x, y) = d(y, x)\n",
        "\n",
        "Inequality: d(x, y) + d(y, z) >= d(x, z)\n",
        "\n",
        "\n",
        "Minkowski distance is in generalized form and we can manipulate it to get different distance metrices.\n",
        "\n",
        "The p value in the formula can be manipulated to give us different distances like:\n",
        "\n",
        "p = 1, when p is set to 1 we get Manhattan distance\n",
        "\n",
        "p = 2, when p is set to 2 we get Euclidean distance"
      ],
      "metadata": {
        "id": "Zhqv5p03mFOY"
      }
    },
    {
      "cell_type": "markdown",
      "source": [
        "formula for MinKowski distance is :\n",
        "\n",
        "![popular-knn-metrics-1.png](data:image/png;base64,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)"
      ],
      "metadata": {
        "id": "3UHbWpvdm-cw"
      }
    },
    {
      "cell_type": "markdown",
      "source": [
        ""
      ],
      "metadata": {
        "id": "ye7dZwylVZXr"
      }
    },
    {
      "cell_type": "code",
      "source": [
        "#Training KNN model with Euclidean distance\n",
        "from sklearn.neighbors import KNeighborsClassifier\n",
        "classifier = KNeighborsClassifier(n_neighbors = 5, metric = 'minkowski', p = 2)\n",
        "classifier.fit(X_train, Y_train)"
      ],
      "metadata": {
        "id": "PxJciqJKm6Gr",
        "colab": {
          "base_uri": "https://localhost:8080/"
        },
        "outputId": "e15ed704-a300-4fbb-c4d2-390309ce3ac1"
      },
      "execution_count": null,
      "outputs": [
        {
          "output_type": "execute_result",
          "data": {
            "text/plain": [
              "KNeighborsClassifier()"
            ]
          },
          "metadata": {},
          "execution_count": 122
        }
      ]
    },
    {
      "cell_type": "code",
      "source": [
        "Y_pred = classifier.predict(X_test)"
      ],
      "metadata": {
        "id": "v8gKDFj2tAvV"
      },
      "execution_count": null,
      "outputs": []
    },
    {
      "cell_type": "code",
      "source": [
        "from sklearn.metrics import confusion_matrix, accuracy_score\n",
        "cm = confusion_matrix(Y_test, Y_pred)\n",
        "sns.heatmap(cm,annot=True)\n",
        "accuracy_score(Y_test, Y_pred)"
      ],
      "metadata": {
        "colab": {
          "base_uri": "https://localhost:8080/",
          "height": 340
        },
        "id": "JQyRRSzNputa",
        "outputId": "eb704611-e97c-4d1d-9206-67818982151d"
      },
      "execution_count": null,
      "outputs": [
        {
          "output_type": "execute_result",
          "data": {
            "text/plain": [
              "0.6976744186046512"
            ]
          },
          "metadata": {},
          "execution_count": 124
        },
        {
          "output_type": "display_data",
          "data": {
            "image/png": "[encoded data removed]",
            "text/plain": [
              "<Figure size 1440x360 with 2 Axes>"
            ]
          },
          "metadata": {}
        }
      ]
    },
    {
      "cell_type": "code",
      "source": [
        "#Classification Report\n",
        "from sklearn.metrics import classification_report\n",
        "print(classification_report(Y_test, Y_pred))"
      ],
      "metadata": {
        "colab": {
          "base_uri": "https://localhost:8080/"
        },
        "id": "DJ-WSQXpr8PE",
        "outputId": "6742cfed-303c-4113-c5a9-bf25a6be65eb"
      },
      "execution_count": null,
      "outputs": [
        {
          "output_type": "stream",
          "name": "stdout",
          "text": [
            "              precision    recall  f1-score   support\n",
            "\n",
            "           1       0.73      0.79      0.76        14\n",
            "           2       0.65      0.73      0.69        15\n",
            "           3       0.00      0.00      0.00         3\n",
            "           5       0.50      0.33      0.40         3\n",
            "           6       1.00      1.00      1.00         2\n",
            "           7       0.83      0.83      0.83         6\n",
            "\n",
            "    accuracy                           0.70        43\n",
            "   macro avg       0.62      0.61      0.61        43\n",
            "weighted avg       0.66      0.70      0.68        43\n",
            "\n"
          ]
        }
      ]
    },
    {
      "cell_type": "markdown",
      "source": [
        "For Euclidian distance we got accuracy oaround 70 percent."
      ],
      "metadata": {
        "id": "ai0aeo1JsOtx"
      }
    },
    {
      "cell_type": "code",
      "source": [
        "#let us try the model with Manhattan distance\n",
        "from sklearn.neighbors import KNeighborsClassifier\n",
        "classifier_man = KNeighborsClassifier(n_neighbors = 5, metric = 'minkowski', p = 1)\n",
        "classifier_man.fit(X_train, Y_train)"
      ],
      "metadata": {
        "colab": {
          "base_uri": "https://localhost:8080/"
        },
        "id": "GfVtDeVfsZYi",
        "outputId": "dd562866-3f7e-4394-a401-b8d1420ab540"
      },
      "execution_count": null,
      "outputs": [
        {
          "output_type": "execute_result",
          "data": {
            "text/plain": [
              "KNeighborsClassifier(p=1)"
            ]
          },
          "metadata": {},
          "execution_count": 126
        }
      ]
    },
    {
      "cell_type": "code",
      "source": [
        "Y_pred_man = classifier_man.predict(X_test)"
      ],
      "metadata": {
        "id": "zkNsdrD-spXU"
      },
      "execution_count": null,
      "outputs": []
    },
    {
      "cell_type": "code",
      "source": [
        "cm_man = confusion_matrix(Y_test, Y_pred)\n",
        "sns.heatmap(cm_man,annot=True)\n",
        "accuracy_score(Y_test, Y_pred_man)"
      ],
      "metadata": {
        "colab": {
          "base_uri": "https://localhost:8080/",
          "height": 340
        },
        "id": "5A3_3CiWtUmS",
        "outputId": "88a1c208-ba79-4e21-f3dc-55782a7c2d8d"
      },
      "execution_count": null,
      "outputs": [
        {
          "output_type": "execute_result",
          "data": {
            "text/plain": [
              "0.7209302325581395"
            ]
          },
          "metadata": {},
          "execution_count": 128
        },
        {
          "output_type": "display_data",
          "data": {
            "image/png": "[encoded data removed]",
            "text/plain": [
              "<Figure size 1440x360 with 2 Axes>"
            ]
          },
          "metadata": {}
        }
      ]
    },
    {
      "cell_type": "code",
      "source": [
        "#Classification Report\n",
        "\n",
        "print(classification_report(Y_test, Y_pred_man))"
      ],
      "metadata": {
        "colab": {
          "base_uri": "https://localhost:8080/"
        },
        "id": "bntrSDb-tdXC",
        "outputId": "e542b3ab-b107-4407-e610-9ca6d92c63e3"
      },
      "execution_count": null,
      "outputs": [
        {
          "output_type": "stream",
          "name": "stdout",
          "text": [
            "              precision    recall  f1-score   support\n",
            "\n",
            "           1       0.71      0.86      0.77        14\n",
            "           2       0.73      0.73      0.73        15\n",
            "           3       0.00      0.00      0.00         3\n",
            "           5       0.50      0.33      0.40         3\n",
            "           6       1.00      1.00      1.00         2\n",
            "           7       0.83      0.83      0.83         6\n",
            "\n",
            "    accuracy                           0.72        43\n",
            "   macro avg       0.63      0.63      0.62        43\n",
            "weighted avg       0.68      0.72      0.70        43\n",
            "\n"
          ]
        }
      ]
    },
    {
      "cell_type": "markdown",
      "source": [
        "With Manhattan distance we have achived an accuracy of 72 percent "
      ],
      "metadata": {
        "id": "7DJmy5fwtmbS"
      }
    },
    {
      "cell_type": "markdown",
      "source": [
        "Till now we have used all the columns(except ID) given in dataset , \n",
        "now let us check the correlation of columns with output variable and select columns which has high corelation values.\n"
      ],
      "metadata": {
        "id": "ch8WXGA8tv8j"
      }
    },
    {
      "cell_type": "code",
      "source": [
        "sns.heatmap(df.corr(),annot=True,linewidths=1,cmap=\"RdYlGn\")"
      ],
      "metadata": {
        "colab": {
          "base_uri": "https://localhost:8080/",
          "height": 343
        },
        "id": "9hXpkBYDtuqj",
        "outputId": "ea414c54-dd42-4c92-eee0-563b1681e3ab"
      },
      "execution_count": null,
      "outputs": [
        {
          "output_type": "execute_result",
          "data": {
            "text/plain": [
              "<matplotlib.axes._subplots.AxesSubplot at 0x7fdf4406e290>"
            ]
          },
          "metadata": {},
          "execution_count": 130
        },
        {
          "output_type": "display_data",
          "data": {
            "image/png": "[encoded data removed]",
            "text/plain": [
              "<Figure size 1440x360 with 2 Axes>"
            ]
          },
          "metadata": {}
        }
      ]
    },
    {
      "cell_type": "markdown",
      "source": [
        "from heatmap we can notice that the columns [\"RI\",\"Si\",\"K\",\"Ca\",\"Fe\"] have very less impact on the Type of glass column"
      ],
      "metadata": {
        "id": "hS16bWWwu6Yr"
      }
    },
    {
      "cell_type": "code",
      "source": [
        "df_selected=df.copy()\n"
      ],
      "metadata": {
        "id": "XFlnDlFRu7xx"
      },
      "execution_count": null,
      "outputs": []
    },
    {
      "cell_type": "code",
      "source": [
        "df_selected.drop([\"RI\",\"Si\",\"K\",\"Ca\",\"Fe\"],axis=1,inplace=True)\n",
        "df_selected"
      ],
      "metadata": {
        "colab": {
          "base_uri": "https://localhost:8080/",
          "height": 423
        },
        "id": "KRm-WvcSvND2",
        "outputId": "5a97c7a0-eb38-4ab3-cfeb-8688d2ad8165"
      },
      "execution_count": null,
      "outputs": [
        {
          "output_type": "execute_result",
          "data": {
            "text/html": [
              "\n",
              "  <div id=\"df-b5da3815-ae3d-457a-8980-9d2f3330dc4b\">\n",
              "    <div class=\"colab-df-container\">\n",
              "      <div>\n",
              "<style scoped>\n",
              "    .dataframe tbody tr th:only-of-type {\n",
              "        vertical-align: middle;\n",
              "    }\n",
              "\n",
              "    .dataframe tbody tr th {\n",
              "        vertical-align: top;\n",
              "    }\n",
              "\n",
              "    .dataframe thead th {\n",
              "        text-align: right;\n",
              "    }\n",
              "</style>\n",
              "<table border=\"1\" class=\"dataframe\">\n",
              "  <thead>\n",
              "    <tr style=\"text-align: right;\">\n",
              "      <th></th>\n",
              "      <th>Na</th>\n",
              "      <th>Mg</th>\n",
              "      <th>Al</th>\n",
              "      <th>Ba</th>\n",
              "      <th>Type of glass</th>\n",
              "    </tr>\n",
              "  </thead>\n",
              "  <tbody>\n",
              "    <tr>\n",
              "      <th>0</th>\n",
              "      <td>13.64</td>\n",
              "      <td>4.49</td>\n",
              "      <td>1.10</td>\n",
              "      <td>0.00</td>\n",
              "      <td>1</td>\n",
              "    </tr>\n",
              "    <tr>\n",
              "      <th>1</th>\n",
              "      <td>13.89</td>\n",
              "      <td>3.60</td>\n",
              "      <td>1.36</td>\n",
              "      <td>0.00</td>\n",
              "      <td>1</td>\n",
              "    </tr>\n",
              "    <tr>\n",
              "      <th>2</th>\n",
              "      <td>13.53</td>\n",
              "      <td>3.55</td>\n",
              "      <td>1.54</td>\n",
              "      <td>0.00</td>\n",
              "      <td>1</td>\n",
              "    </tr>\n",
              "    <tr>\n",
              "      <th>3</th>\n",
              "      <td>13.21</td>\n",
              "      <td>3.69</td>\n",
              "      <td>1.29</td>\n",
              "      <td>0.00</td>\n",
              "      <td>1</td>\n",
              "    </tr>\n",
              "    <tr>\n",
              "      <th>4</th>\n",
              "      <td>13.27</td>\n",
              "      <td>3.62</td>\n",
              "      <td>1.24</td>\n",
              "      <td>0.00</td>\n",
              "      <td>1</td>\n",
              "    </tr>\n",
              "    <tr>\n",
              "      <th>...</th>\n",
              "      <td>...</td>\n",
              "      <td>...</td>\n",
              "      <td>...</td>\n",
              "      <td>...</td>\n",
              "      <td>...</td>\n",
              "    </tr>\n",
              "    <tr>\n",
              "      <th>209</th>\n",
              "      <td>14.14</td>\n",
              "      <td>0.00</td>\n",
              "      <td>2.88</td>\n",
              "      <td>1.06</td>\n",
              "      <td>7</td>\n",
              "    </tr>\n",
              "    <tr>\n",
              "      <th>210</th>\n",
              "      <td>14.92</td>\n",
              "      <td>0.00</td>\n",
              "      <td>1.99</td>\n",
              "      <td>1.59</td>\n",
              "      <td>7</td>\n",
              "    </tr>\n",
              "    <tr>\n",
              "      <th>211</th>\n",
              "      <td>14.36</td>\n",
              "      <td>0.00</td>\n",
              "      <td>2.02</td>\n",
              "      <td>1.64</td>\n",
              "      <td>7</td>\n",
              "    </tr>\n",
              "    <tr>\n",
              "      <th>212</th>\n",
              "      <td>14.38</td>\n",
              "      <td>0.00</td>\n",
              "      <td>1.94</td>\n",
              "      <td>1.57</td>\n",
              "      <td>7</td>\n",
              "    </tr>\n",
              "    <tr>\n",
              "      <th>213</th>\n",
              "      <td>14.23</td>\n",
              "      <td>0.00</td>\n",
              "      <td>2.08</td>\n",
              "      <td>1.67</td>\n",
              "      <td>7</td>\n",
              "    </tr>\n",
              "  </tbody>\n",
              "</table>\n",
              "<p>214 rows × 5 columns</p>\n",
              "</div>\n",
              "      <button class=\"colab-df-convert\" onclick=\"convertToInteractive('df-b5da3815-ae3d-457a-8980-9d2f3330dc4b')\"\n",
              "              title=\"Convert this dataframe to an interactive table.\"\n",
              "              style=\"display:none;\">\n",
              "        \n",
              "  <svg xmlns=\"http://www.w3.org/2000/svg\" height=\"24px\"viewBox=\"0 0 24 24\"\n",
              "       width=\"24px\">\n",
              "    <path d=\"M0 0h24v24H0V0z\" fill=\"none\"/>\n",
              "    <path d=\"M18.56 5.44l.94 2.06.94-2.06 2.06-.94-2.06-.94-.94-2.06-.94 2.06-2.06.94zm-11 1L8.5 8.5l.94-2.06 2.06-.94-2.06-.94L8.5 2.5l-.94 2.06-2.06.94zm10 10l.94 2.06.94-2.06 2.06-.94-2.06-.94-.94-2.06-.94 2.06-2.06.94z\"/><path d=\"M17.41 7.96l-1.37-1.37c-.4-.4-.92-.59-1.43-.59-.52 0-1.04.2-1.43.59L10.3 9.45l-7.72 7.72c-.78.78-.78 2.05 0 2.83L4 21.41c.39.39.9.59 1.41.59.51 0 1.02-.2 1.41-.59l7.78-7.78 2.81-2.81c.8-.78.8-2.07 0-2.86zM5.41 20L4 18.59l7.72-7.72 1.47 1.35L5.41 20z\"/>\n",
              "  </svg>\n",
              "      </button>\n",
              "      \n",
              "  <style>\n",
              "    .colab-df-container {\n",
              "      display:flex;\n",
              "      flex-wrap:wrap;\n",
              "      gap: 12px;\n",
              "    }\n",
              "\n",
              "    .colab-df-convert {\n",
              "      background-color: #E8F0FE;\n",
              "      border: none;\n",
              "      border-radius: 50%;\n",
              "      cursor: pointer;\n",
              "      display: none;\n",
              "      fill: #1967D2;\n",
              "      height: 32px;\n",
              "      padding: 0 0 0 0;\n",
              "      width: 32px;\n",
              "    }\n",
              "\n",
              "    .colab-df-convert:hover {\n",
              "      background-color: #E2EBFA;\n",
              "      box-shadow: 0px 1px 2px rgba(60, 64, 67, 0.3), 0px 1px 3px 1px rgba(60, 64, 67, 0.15);\n",
              "      fill: #174EA6;\n",
              "    }\n",
              "\n",
              "    [theme=dark] .colab-df-convert {\n",
              "      background-color: #3B4455;\n",
              "      fill: #D2E3FC;\n",
              "    }\n",
              "\n",
              "    [theme=dark] .colab-df-convert:hover {\n",
              "      background-color: #434B5C;\n",
              "      box-shadow: 0px 1px 3px 1px rgba(0, 0, 0, 0.15);\n",
              "      filter: drop-shadow(0px 1px 2px rgba(0, 0, 0, 0.3));\n",
              "      fill: #FFFFFF;\n",
              "    }\n",
              "  </style>\n",
              "\n",
              "      <script>\n",
              "        const buttonEl =\n",
              "          document.querySelector('#df-b5da3815-ae3d-457a-8980-9d2f3330dc4b button.colab-df-convert');\n",
              "        buttonEl.style.display =\n",
              "          google.colab.kernel.accessAllowed ? 'block' : 'none';\n",
              "\n",
              "        async function convertToInteractive(key) {\n",
              "          const element = document.querySelector('#df-b5da3815-ae3d-457a-8980-9d2f3330dc4b');\n",
              "          const dataTable =\n",
              "            await google.colab.kernel.invokeFunction('convertToInteractive',\n",
              "                                                     [key], {});\n",
              "          if (!dataTable) return;\n",
              "\n",
              "          const docLinkHtml = 'Like what you see? Visit the ' +\n",
              "            '<a target=\"_blank\" href=https://colab.research.google.com/notebooks/data_table.ipynb>data table notebook</a>'\n",
              "            + ' to learn more about interactive tables.';\n",
              "          element.innerHTML = '';\n",
              "          dataTable['output_type'] = 'display_data';\n",
              "          await google.colab.output.renderOutput(dataTable, element);\n",
              "          const docLink = document.createElement('div');\n",
              "          docLink.innerHTML = docLinkHtml;\n",
              "          element.appendChild(docLink);\n",
              "        }\n",
              "      </script>\n",
              "    </div>\n",
              "  </div>\n",
              "  "
            ],
            "text/plain": [
              "        Na    Mg    Al    Ba  Type of glass\n",
              "0    13.64  4.49  1.10  0.00              1\n",
              "1    13.89  3.60  1.36  0.00              1\n",
              "2    13.53  3.55  1.54  0.00              1\n",
              "3    13.21  3.69  1.29  0.00              1\n",
              "4    13.27  3.62  1.24  0.00              1\n",
              "..     ...   ...   ...   ...            ...\n",
              "209  14.14  0.00  2.88  1.06              7\n",
              "210  14.92  0.00  1.99  1.59              7\n",
              "211  14.36  0.00  2.02  1.64              7\n",
              "212  14.38  0.00  1.94  1.57              7\n",
              "213  14.23  0.00  2.08  1.67              7\n",
              "\n",
              "[214 rows x 5 columns]"
            ]
          },
          "metadata": {},
          "execution_count": 134
        }
      ]
    },
    {
      "cell_type": "code",
      "source": [
        "#Splitting the dependent and independent variables\n",
        "\n",
        "X_sel=df_selected.iloc[:,:-1]\n",
        "Y_sel=df_selected[\"Type of glass\"]\n",
        "print(\"Shape of X is \",X_sel.shape)\n",
        "print(\"Shape of Y is \",Y_sel.shape)"
      ],
      "metadata": {
        "colab": {
          "base_uri": "https://localhost:8080/"
        },
        "id": "KsO-T12fwtxM",
        "outputId": "4a3ae93f-2da7-4be3-8eb3-87e1d57f5bd0"
      },
      "execution_count": null,
      "outputs": [
        {
          "output_type": "stream",
          "name": "stdout",
          "text": [
            "Shape of X is  (214, 4)\n",
            "Shape of Y is  (214,)\n"
          ]
        }
      ]
    },
    {
      "cell_type": "code",
      "source": [
        "X_sel"
      ],
      "metadata": {
        "colab": {
          "base_uri": "https://localhost:8080/",
          "height": 423
        },
        "id": "P1hjUF3AxBAd",
        "outputId": "a0d72f36-d1ac-45b8-f588-b61a68c7031f"
      },
      "execution_count": null,
      "outputs": [
        {
          "output_type": "execute_result",
          "data": {
            "text/html": [
              "\n",
              "  <div id=\"df-8be91e76-4c02-4859-a9de-fd5d2489cab7\">\n",
              "    <div class=\"colab-df-container\">\n",
              "      <div>\n",
              "<style scoped>\n",
              "    .dataframe tbody tr th:only-of-type {\n",
              "        vertical-align: middle;\n",
              "    }\n",
              "\n",
              "    .dataframe tbody tr th {\n",
              "        vertical-align: top;\n",
              "    }\n",
              "\n",
              "    .dataframe thead th {\n",
              "        text-align: right;\n",
              "    }\n",
              "</style>\n",
              "<table border=\"1\" class=\"dataframe\">\n",
              "  <thead>\n",
              "    <tr style=\"text-align: right;\">\n",
              "      <th></th>\n",
              "      <th>Na</th>\n",
              "      <th>Mg</th>\n",
              "      <th>Al</th>\n",
              "      <th>Ba</th>\n",
              "    </tr>\n",
              "  </thead>\n",
              "  <tbody>\n",
              "    <tr>\n",
              "      <th>0</th>\n",
              "      <td>13.64</td>\n",
              "      <td>4.49</td>\n",
              "      <td>1.10</td>\n",
              "      <td>0.00</td>\n",
              "    </tr>\n",
              "    <tr>\n",
              "      <th>1</th>\n",
              "      <td>13.89</td>\n",
              "      <td>3.60</td>\n",
              "      <td>1.36</td>\n",
              "      <td>0.00</td>\n",
              "    </tr>\n",
              "    <tr>\n",
              "      <th>2</th>\n",
              "      <td>13.53</td>\n",
              "      <td>3.55</td>\n",
              "      <td>1.54</td>\n",
              "      <td>0.00</td>\n",
              "    </tr>\n",
              "    <tr>\n",
              "      <th>3</th>\n",
              "      <td>13.21</td>\n",
              "      <td>3.69</td>\n",
              "      <td>1.29</td>\n",
              "      <td>0.00</td>\n",
              "    </tr>\n",
              "    <tr>\n",
              "      <th>4</th>\n",
              "      <td>13.27</td>\n",
              "      <td>3.62</td>\n",
              "      <td>1.24</td>\n",
              "      <td>0.00</td>\n",
              "    </tr>\n",
              "    <tr>\n",
              "      <th>...</th>\n",
              "      <td>...</td>\n",
              "      <td>...</td>\n",
              "      <td>...</td>\n",
              "      <td>...</td>\n",
              "    </tr>\n",
              "    <tr>\n",
              "      <th>209</th>\n",
              "      <td>14.14</td>\n",
              "      <td>0.00</td>\n",
              "      <td>2.88</td>\n",
              "      <td>1.06</td>\n",
              "    </tr>\n",
              "    <tr>\n",
              "      <th>210</th>\n",
              "      <td>14.92</td>\n",
              "      <td>0.00</td>\n",
              "      <td>1.99</td>\n",
              "      <td>1.59</td>\n",
              "    </tr>\n",
              "    <tr>\n",
              "      <th>211</th>\n",
              "      <td>14.36</td>\n",
              "      <td>0.00</td>\n",
              "      <td>2.02</td>\n",
              "      <td>1.64</td>\n",
              "    </tr>\n",
              "    <tr>\n",
              "      <th>212</th>\n",
              "      <td>14.38</td>\n",
              "      <td>0.00</td>\n",
              "      <td>1.94</td>\n",
              "      <td>1.57</td>\n",
              "    </tr>\n",
              "    <tr>\n",
              "      <th>213</th>\n",
              "      <td>14.23</td>\n",
              "      <td>0.00</td>\n",
              "      <td>2.08</td>\n",
              "      <td>1.67</td>\n",
              "    </tr>\n",
              "  </tbody>\n",
              "</table>\n",
              "<p>214 rows × 4 columns</p>\n",
              "</div>\n",
              "      <button class=\"colab-df-convert\" onclick=\"convertToInteractive('df-8be91e76-4c02-4859-a9de-fd5d2489cab7')\"\n",
              "              title=\"Convert this dataframe to an interactive table.\"\n",
              "              style=\"display:none;\">\n",
              "        \n",
              "  <svg xmlns=\"http://www.w3.org/2000/svg\" height=\"24px\"viewBox=\"0 0 24 24\"\n",
              "       width=\"24px\">\n",
              "    <path d=\"M0 0h24v24H0V0z\" fill=\"none\"/>\n",
              "    <path d=\"M18.56 5.44l.94 2.06.94-2.06 2.06-.94-2.06-.94-.94-2.06-.94 2.06-2.06.94zm-11 1L8.5 8.5l.94-2.06 2.06-.94-2.06-.94L8.5 2.5l-.94 2.06-2.06.94zm10 10l.94 2.06.94-2.06 2.06-.94-2.06-.94-.94-2.06-.94 2.06-2.06.94z\"/><path d=\"M17.41 7.96l-1.37-1.37c-.4-.4-.92-.59-1.43-.59-.52 0-1.04.2-1.43.59L10.3 9.45l-7.72 7.72c-.78.78-.78 2.05 0 2.83L4 21.41c.39.39.9.59 1.41.59.51 0 1.02-.2 1.41-.59l7.78-7.78 2.81-2.81c.8-.78.8-2.07 0-2.86zM5.41 20L4 18.59l7.72-7.72 1.47 1.35L5.41 20z\"/>\n",
              "  </svg>\n",
              "      </button>\n",
              "      \n",
              "  <style>\n",
              "    .colab-df-container {\n",
              "      display:flex;\n",
              "      flex-wrap:wrap;\n",
              "      gap: 12px;\n",
              "    }\n",
              "\n",
              "    .colab-df-convert {\n",
              "      background-color: #E8F0FE;\n",
              "      border: none;\n",
              "      border-radius: 50%;\n",
              "      cursor: pointer;\n",
              "      display: none;\n",
              "      fill: #1967D2;\n",
              "      height: 32px;\n",
              "      padding: 0 0 0 0;\n",
              "      width: 32px;\n",
              "    }\n",
              "\n",
              "    .colab-df-convert:hover {\n",
              "      background-color: #E2EBFA;\n",
              "      box-shadow: 0px 1px 2px rgba(60, 64, 67, 0.3), 0px 1px 3px 1px rgba(60, 64, 67, 0.15);\n",
              "      fill: #174EA6;\n",
              "    }\n",
              "\n",
              "    [theme=dark] .colab-df-convert {\n",
              "      background-color: #3B4455;\n",
              "      fill: #D2E3FC;\n",
              "    }\n",
              "\n",
              "    [theme=dark] .colab-df-convert:hover {\n",
              "      background-color: #434B5C;\n",
              "      box-shadow: 0px 1px 3px 1px rgba(0, 0, 0, 0.15);\n",
              "      filter: drop-shadow(0px 1px 2px rgba(0, 0, 0, 0.3));\n",
              "      fill: #FFFFFF;\n",
              "    }\n",
              "  </style>\n",
              "\n",
              "      <script>\n",
              "        const buttonEl =\n",
              "          document.querySelector('#df-8be91e76-4c02-4859-a9de-fd5d2489cab7 button.colab-df-convert');\n",
              "        buttonEl.style.display =\n",
              "          google.colab.kernel.accessAllowed ? 'block' : 'none';\n",
              "\n",
              "        async function convertToInteractive(key) {\n",
              "          const element = document.querySelector('#df-8be91e76-4c02-4859-a9de-fd5d2489cab7');\n",
              "          const dataTable =\n",
              "            await google.colab.kernel.invokeFunction('convertToInteractive',\n",
              "                                                     [key], {});\n",
              "          if (!dataTable) return;\n",
              "\n",
              "          const docLinkHtml = 'Like what you see? Visit the ' +\n",
              "            '<a target=\"_blank\" href=https://colab.research.google.com/notebooks/data_table.ipynb>data table notebook</a>'\n",
              "            + ' to learn more about interactive tables.';\n",
              "          element.innerHTML = '';\n",
              "          dataTable['output_type'] = 'display_data';\n",
              "          await google.colab.output.renderOutput(dataTable, element);\n",
              "          const docLink = document.createElement('div');\n",
              "          docLink.innerHTML = docLinkHtml;\n",
              "          element.appendChild(docLink);\n",
              "        }\n",
              "      </script>\n",
              "    </div>\n",
              "  </div>\n",
              "  "
            ],
            "text/plain": [
              "        Na    Mg    Al    Ba\n",
              "0    13.64  4.49  1.10  0.00\n",
              "1    13.89  3.60  1.36  0.00\n",
              "2    13.53  3.55  1.54  0.00\n",
              "3    13.21  3.69  1.29  0.00\n",
              "4    13.27  3.62  1.24  0.00\n",
              "..     ...   ...   ...   ...\n",
              "209  14.14  0.00  2.88  1.06\n",
              "210  14.92  0.00  1.99  1.59\n",
              "211  14.36  0.00  2.02  1.64\n",
              "212  14.38  0.00  1.94  1.57\n",
              "213  14.23  0.00  2.08  1.67\n",
              "\n",
              "[214 rows x 4 columns]"
            ]
          },
          "metadata": {},
          "execution_count": 136
        }
      ]
    },
    {
      "cell_type": "code",
      "source": [
        "Y_sel"
      ],
      "metadata": {
        "colab": {
          "base_uri": "https://localhost:8080/"
        },
        "id": "rvC8gRIbxDGQ",
        "outputId": "ad2d8b54-2c94-472b-b68e-bcdb2902aad4"
      },
      "execution_count": null,
      "outputs": [
        {
          "output_type": "execute_result",
          "data": {
            "text/plain": [
              "0      1\n",
              "1      1\n",
              "2      1\n",
              "3      1\n",
              "4      1\n",
              "      ..\n",
              "209    7\n",
              "210    7\n",
              "211    7\n",
              "212    7\n",
              "213    7\n",
              "Name: Type of glass, Length: 214, dtype: int64"
            ]
          },
          "metadata": {},
          "execution_count": 137
        }
      ]
    },
    {
      "cell_type": "code",
      "source": [
        "#from https://scikit-learn.org/stable/modules/generated/sklearn.model_selection.train_test_split.html\n",
        "from sklearn.model_selection import train_test_split\n",
        "\n",
        "X_train_sel, X_test_sel, Y_train_sel, Y_test_sel = train_test_split(X_sel, Y_sel, test_size=0.2, random_state=0,stratify=Y_sel)\n",
        "print('Shape of X_train is ', X_train_sel.shape)\n",
        "print('Shape of X_test is ', X_test_sel.shape)\n",
        "print('Shape of Y_train is ', Y_train_sel.shape)\n",
        "print('Shape of Y_test is ', Y_test_sel.shape)"
      ],
      "metadata": {
        "colab": {
          "base_uri": "https://localhost:8080/"
        },
        "id": "cBozkT8ZxF_Q",
        "outputId": "86c5fea6-f987-4159-c8e1-45ee1f85b402"
      },
      "execution_count": null,
      "outputs": [
        {
          "output_type": "stream",
          "name": "stdout",
          "text": [
            "Shape of X_train is  (171, 4)\n",
            "Shape of X_test is  (43, 4)\n",
            "Shape of Y_train is  (171,)\n",
            "Shape of Y_test is  (43,)\n"
          ]
        }
      ]
    },
    {
      "cell_type": "code",
      "source": [
        "#from https://scikit-learn.org/stable/modules/generated/sklearn.preprocessing.StandardScaler.html\n",
        "from sklearn.preprocessing import StandardScaler\n",
        "\n",
        "sc_sel=StandardScaler()\n",
        "X_train_sel = sc_sel.fit_transform(X_train_sel)\n",
        "X_test_sel = sc_sel.transform(X_test_sel)"
      ],
      "metadata": {
        "id": "TtHs0i75xdMv"
      },
      "execution_count": null,
      "outputs": []
    },
    {
      "cell_type": "code",
      "source": [
        "#Training KNN model with Euclidean distance\n",
        "from sklearn.neighbors import KNeighborsClassifier\n",
        "classifier_sel_eu = KNeighborsClassifier(n_neighbors = 5, metric = 'minkowski', p = 2)\n",
        "classifier_sel_eu.fit(X_train_sel, Y_train_sel)"
      ],
      "metadata": {
        "colab": {
          "base_uri": "https://localhost:8080/"
        },
        "id": "Cic3_Vrpxv21",
        "outputId": "9eae7976-883b-4ab3-fc04-851778b9f240"
      },
      "execution_count": null,
      "outputs": [
        {
          "output_type": "execute_result",
          "data": {
            "text/plain": [
              "KNeighborsClassifier()"
            ]
          },
          "metadata": {},
          "execution_count": 140
        }
      ]
    },
    {
      "cell_type": "code",
      "source": [
        "Y_pred_sel = classifier_sel_eu.predict(X_test_sel)"
      ],
      "metadata": {
        "id": "Gf0sZkx6yGZ7"
      },
      "execution_count": null,
      "outputs": []
    },
    {
      "cell_type": "code",
      "source": [
        "from sklearn.metrics import confusion_matrix, accuracy_score\n",
        "cm_sel_eu = confusion_matrix(Y_test_sel, Y_pred_sel)\n",
        "sns.heatmap(cm_sel_eu,annot=True)\n",
        "accuracy_score(Y_test_sel, Y_pred_sel)"
      ],
      "metadata": {
        "colab": {
          "base_uri": "https://localhost:8080/",
          "height": 340
        },
        "id": "WFMVxGBRyO_7",
        "outputId": "1b410464-bc75-4089-b965-72bd08e82b97"
      },
      "execution_count": null,
      "outputs": [
        {
          "output_type": "execute_result",
          "data": {
            "text/plain": [
              "0.6976744186046512"
            ]
          },
          "metadata": {},
          "execution_count": 143
        },
        {
          "output_type": "display_data",
          "data": {
            "image/png": "[encoded data removed]",
            "text/plain": [
              "<Figure size 1440x360 with 2 Axes>"
            ]
          },
          "metadata": {}
        }
      ]
    },
    {
      "cell_type": "code",
      "source": [
        "#Classification Report\n",
        "from sklearn.metrics import classification_report\n",
        "print(classification_report(Y_test_sel, Y_pred_sel))"
      ],
      "metadata": {
        "colab": {
          "base_uri": "https://localhost:8080/"
        },
        "id": "I9owaF08y5Az",
        "outputId": "c23be122-b327-4e11-ef29-04862d96af0d"
      },
      "execution_count": null,
      "outputs": [
        {
          "output_type": "stream",
          "name": "stdout",
          "text": [
            "              precision    recall  f1-score   support\n",
            "\n",
            "           1       0.72      0.93      0.81        14\n",
            "           2       0.73      0.53      0.62        15\n",
            "           3       0.00      0.00      0.00         3\n",
            "           5       0.67      0.67      0.67         3\n",
            "           6       0.33      0.50      0.40         2\n",
            "           7       0.86      1.00      0.92         6\n",
            "\n",
            "    accuracy                           0.70        43\n",
            "   macro avg       0.55      0.60      0.57        43\n",
            "weighted avg       0.67      0.70      0.67        43\n",
            "\n"
          ]
        }
      ]
    },
    {
      "cell_type": "markdown",
      "source": [
        "We got accuracy of 70 percent with the selected columns"
      ],
      "metadata": {
        "id": "8SyETk-w0MhL"
      }
    },
    {
      "cell_type": "code",
      "source": [
        "Y_pred_sel_man = classifier_sel_man.predict(X_test_sel)"
      ],
      "metadata": {
        "id": "G97qiROszZCS"
      },
      "execution_count": null,
      "outputs": []
    },
    {
      "cell_type": "code",
      "source": [
        "from sklearn.metrics import confusion_matrix, accuracy_score\n",
        "cm_sel_man = confusion_matrix(Y_test_sel, Y_pred_sel_man)\n",
        "sns.heatmap(cm_sel_man,annot=True)\n",
        "accuracy_score(Y_test_sel, Y_pred_sel_man)"
      ],
      "metadata": {
        "colab": {
          "base_uri": "https://localhost:8080/",
          "height": 340
        },
        "id": "thDsxQ-9zqBr",
        "outputId": "fb6d314f-ed50-4b81-d4ac-868c98a6417b"
      },
      "execution_count": null,
      "outputs": [
        {
          "output_type": "execute_result",
          "data": {
            "text/plain": [
              "0.6744186046511628"
            ]
          },
          "metadata": {},
          "execution_count": 147
        },
        {
          "output_type": "display_data",
          "data": {
            "image/png": "[encoded data removed]",
            "text/plain": [
              "<Figure size 1440x360 with 2 Axes>"
            ]
          },
          "metadata": {}
        }
      ]
    },
    {
      "cell_type": "code",
      "source": [
        "#Classification Report\n",
        "from sklearn.metrics import classification_report\n",
        "print(classification_report(Y_test_sel, Y_pred_sel_man))"
      ],
      "metadata": {
        "colab": {
          "base_uri": "https://localhost:8080/"
        },
        "id": "UZtasv3j0AjX",
        "outputId": "2ec62b04-0263-4769-d0fe-606fa2ca2e59"
      },
      "execution_count": null,
      "outputs": [
        {
          "output_type": "stream",
          "name": "stdout",
          "text": [
            "              precision    recall  f1-score   support\n",
            "\n",
            "           1       0.68      0.93      0.79        14\n",
            "           2       0.89      0.53      0.67        15\n",
            "           3       0.00      0.00      0.00         3\n",
            "           5       0.50      0.67      0.57         3\n",
            "           6       0.50      0.50      0.50         2\n",
            "           7       0.83      0.83      0.83         6\n",
            "\n",
            "    accuracy                           0.67        43\n",
            "   macro avg       0.57      0.58      0.56        43\n",
            "weighted avg       0.71      0.67      0.67        43\n",
            "\n"
          ]
        }
      ]
    },
    {
      "cell_type": "markdown",
      "source": [
        "We got accuracy of 67 percent with manhattan distance and selected columns\n"
      ],
      "metadata": {
        "id": "SYSxHLVF00Vd"
      }
    },
    {
      "cell_type": "markdown",
      "source": [
        ""
      ],
      "metadata": {
        "id": "aYBG6Wfj1Bpc"
      }
    }
  ]
}